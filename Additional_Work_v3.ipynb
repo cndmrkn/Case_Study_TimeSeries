{
  "nbformat": 4,
  "nbformat_minor": 0,
  "metadata": {
    "kernelspec": {
      "display_name": "Python 3",
      "language": "python",
      "name": "python3"
    },
    "language_info": {
      "codemirror_mode": {
        "name": "ipython",
        "version": 3
      },
      "file_extension": ".py",
      "mimetype": "text/x-python",
      "name": "python",
      "nbconvert_exporter": "python",
      "pygments_lexer": "ipython3",
      "version": "3.7.4"
    },
    "colab": {
      "name": "Additional Work.ipynb",
      "provenance": [],
      "collapsed_sections": []
    }
  },
  "cells": [
    {
      "cell_type": "code",
      "metadata": {
        "id": "WxAYeKGJQD3F",
        "colab_type": "code",
        "colab": {}
      },
      "source": [
        "import matplotlib.pyplot as plt"
      ],
      "execution_count": 0,
      "outputs": []
    },
    {
      "cell_type": "code",
      "metadata": {
        "id": "DGdr0OmEQD3P",
        "colab_type": "code",
        "colab": {}
      },
      "source": [
        "import pandas as pd\n",
        "import numpy as np"
      ],
      "execution_count": 0,
      "outputs": []
    },
    {
      "cell_type": "code",
      "metadata": {
        "id": "kJan1tcbQD3W",
        "colab_type": "code",
        "colab": {}
      },
      "source": [
        "daily = pd.read_csv('productDailyActions.csv')\n",
        "attributes = pd.read_csv('productAttributes.csv')"
      ],
      "execution_count": 0,
      "outputs": []
    },
    {
      "cell_type": "code",
      "metadata": {
        "id": "uyBuyLziQD3d",
        "colab_type": "code",
        "colab": {
          "base_uri": "https://localhost:8080/",
          "height": 204
        },
        "outputId": "b3e51c81-6ac2-4f90-a37d-82da63202a1d"
      },
      "source": [
        "daily.head()"
      ],
      "execution_count": 45,
      "outputs": [
        {
          "output_type": "execute_result",
          "data": {
            "text/html": [
              "<div>\n",
              "<style scoped>\n",
              "    .dataframe tbody tr th:only-of-type {\n",
              "        vertical-align: middle;\n",
              "    }\n",
              "\n",
              "    .dataframe tbody tr th {\n",
              "        vertical-align: top;\n",
              "    }\n",
              "\n",
              "    .dataframe thead th {\n",
              "        text-align: right;\n",
              "    }\n",
              "</style>\n",
              "<table border=\"1\" class=\"dataframe\">\n",
              "  <thead>\n",
              "    <tr style=\"text-align: right;\">\n",
              "      <th></th>\n",
              "      <th>productid</th>\n",
              "      <th>date</th>\n",
              "      <th>soldquantity</th>\n",
              "      <th>stock</th>\n",
              "      <th>clickcount</th>\n",
              "      <th>favoredcount</th>\n",
              "    </tr>\n",
              "  </thead>\n",
              "  <tbody>\n",
              "    <tr>\n",
              "      <th>0</th>\n",
              "      <td>1</td>\n",
              "      <td>2018-11-23</td>\n",
              "      <td>0</td>\n",
              "      <td>140</td>\n",
              "      <td>82.0</td>\n",
              "      <td>NaN</td>\n",
              "    </tr>\n",
              "    <tr>\n",
              "      <th>1</th>\n",
              "      <td>21</td>\n",
              "      <td>2018-11-30</td>\n",
              "      <td>0</td>\n",
              "      <td>3</td>\n",
              "      <td>11.0</td>\n",
              "      <td>NaN</td>\n",
              "    </tr>\n",
              "    <tr>\n",
              "      <th>2</th>\n",
              "      <td>21</td>\n",
              "      <td>2018-12-27</td>\n",
              "      <td>0</td>\n",
              "      <td>2</td>\n",
              "      <td>2.0</td>\n",
              "      <td>NaN</td>\n",
              "    </tr>\n",
              "    <tr>\n",
              "      <th>3</th>\n",
              "      <td>21</td>\n",
              "      <td>2019-01-09</td>\n",
              "      <td>0</td>\n",
              "      <td>2</td>\n",
              "      <td>2.0</td>\n",
              "      <td>1.0</td>\n",
              "    </tr>\n",
              "    <tr>\n",
              "      <th>4</th>\n",
              "      <td>21</td>\n",
              "      <td>2018-12-18</td>\n",
              "      <td>0</td>\n",
              "      <td>2</td>\n",
              "      <td>5.0</td>\n",
              "      <td>NaN</td>\n",
              "    </tr>\n",
              "  </tbody>\n",
              "</table>\n",
              "</div>"
            ],
            "text/plain": [
              "   productid        date  soldquantity  stock  clickcount  favoredcount\n",
              "0          1  2018-11-23             0    140        82.0           NaN\n",
              "1         21  2018-11-30             0      3        11.0           NaN\n",
              "2         21  2018-12-27             0      2         2.0           NaN\n",
              "3         21  2019-01-09             0      2         2.0           1.0\n",
              "4         21  2018-12-18             0      2         5.0           NaN"
            ]
          },
          "metadata": {
            "tags": []
          },
          "execution_count": 45
        }
      ]
    },
    {
      "cell_type": "code",
      "metadata": {
        "id": "it-rY_AsQD3m",
        "colab_type": "code",
        "colab": {
          "base_uri": "https://localhost:8080/",
          "height": 419
        },
        "outputId": "b1367c45-08fe-4885-ba65-c228b97a3b95"
      },
      "source": [
        "daily.drop(['productid','stock', 'clickcount','favoredcount'], axis=1)"
      ],
      "execution_count": 46,
      "outputs": [
        {
          "output_type": "execute_result",
          "data": {
            "text/html": [
              "<div>\n",
              "<style scoped>\n",
              "    .dataframe tbody tr th:only-of-type {\n",
              "        vertical-align: middle;\n",
              "    }\n",
              "\n",
              "    .dataframe tbody tr th {\n",
              "        vertical-align: top;\n",
              "    }\n",
              "\n",
              "    .dataframe thead th {\n",
              "        text-align: right;\n",
              "    }\n",
              "</style>\n",
              "<table border=\"1\" class=\"dataframe\">\n",
              "  <thead>\n",
              "    <tr style=\"text-align: right;\">\n",
              "      <th></th>\n",
              "      <th>date</th>\n",
              "      <th>soldquantity</th>\n",
              "    </tr>\n",
              "  </thead>\n",
              "  <tbody>\n",
              "    <tr>\n",
              "      <th>0</th>\n",
              "      <td>2018-11-23</td>\n",
              "      <td>0</td>\n",
              "    </tr>\n",
              "    <tr>\n",
              "      <th>1</th>\n",
              "      <td>2018-11-30</td>\n",
              "      <td>0</td>\n",
              "    </tr>\n",
              "    <tr>\n",
              "      <th>2</th>\n",
              "      <td>2018-12-27</td>\n",
              "      <td>0</td>\n",
              "    </tr>\n",
              "    <tr>\n",
              "      <th>3</th>\n",
              "      <td>2019-01-09</td>\n",
              "      <td>0</td>\n",
              "    </tr>\n",
              "    <tr>\n",
              "      <th>4</th>\n",
              "      <td>2018-12-18</td>\n",
              "      <td>0</td>\n",
              "    </tr>\n",
              "    <tr>\n",
              "      <th>...</th>\n",
              "      <td>...</td>\n",
              "      <td>...</td>\n",
              "    </tr>\n",
              "    <tr>\n",
              "      <th>858930</th>\n",
              "      <td>2018-12-12</td>\n",
              "      <td>0</td>\n",
              "    </tr>\n",
              "    <tr>\n",
              "      <th>858931</th>\n",
              "      <td>2018-12-26</td>\n",
              "      <td>0</td>\n",
              "    </tr>\n",
              "    <tr>\n",
              "      <th>858932</th>\n",
              "      <td>2019-01-01</td>\n",
              "      <td>0</td>\n",
              "    </tr>\n",
              "    <tr>\n",
              "      <th>858933</th>\n",
              "      <td>2019-01-03</td>\n",
              "      <td>0</td>\n",
              "    </tr>\n",
              "    <tr>\n",
              "      <th>858934</th>\n",
              "      <td>2019-01-06</td>\n",
              "      <td>0</td>\n",
              "    </tr>\n",
              "  </tbody>\n",
              "</table>\n",
              "<p>858935 rows × 2 columns</p>\n",
              "</div>"
            ],
            "text/plain": [
              "              date  soldquantity\n",
              "0       2018-11-23             0\n",
              "1       2018-11-30             0\n",
              "2       2018-12-27             0\n",
              "3       2019-01-09             0\n",
              "4       2018-12-18             0\n",
              "...            ...           ...\n",
              "858930  2018-12-12             0\n",
              "858931  2018-12-26             0\n",
              "858932  2019-01-01             0\n",
              "858933  2019-01-03             0\n",
              "858934  2019-01-06             0\n",
              "\n",
              "[858935 rows x 2 columns]"
            ]
          },
          "metadata": {
            "tags": []
          },
          "execution_count": 46
        }
      ]
    },
    {
      "cell_type": "code",
      "metadata": {
        "id": "yUhHFpilQD3t",
        "colab_type": "code",
        "colab": {}
      },
      "source": [
        "daily.drop(daily[(daily.date == '2018-11-09')].index, axis=0, inplace=True)\n",
        "daily.drop(daily[(daily.date == '2018-11-10')].index, axis=0, inplace=True)\n",
        "daily.drop(daily[(daily.date == '2018-11-11')].index, axis=0, inplace=True)\n",
        "\n",
        "daily.drop(daily[(daily.date == '2018-11-20')].index, axis=0, inplace=True)\n",
        "daily.drop(daily[(daily.date == '2018-11-21')].index, axis=0, inplace=True)\n",
        "daily.drop(daily[(daily.date == '2018-11-22')].index, axis=0, inplace=True)\n",
        "daily.drop(daily[(daily.date == '2018-11-23')].index, axis=0, inplace=True)\n",
        "daily.drop(daily[(daily.date == '2018-11-24')].index, axis=0, inplace=True)\n",
        "daily.drop(daily[(daily.date == '2018-11-25')].index, axis=0, inplace=True)\n",
        "\n",
        "daily.drop(daily[(daily.date == '2018-12-20')].index, axis=0, inplace=True)\n",
        "daily.drop(daily[(daily.date == '2018-12-21')].index, axis=0, inplace=True)"
      ],
      "execution_count": 0,
      "outputs": []
    },
    {
      "cell_type": "code",
      "metadata": {
        "id": "D2mnnh5CQD3z",
        "colab_type": "code",
        "colab": {}
      },
      "source": [
        "daily_new = daily.groupby('date')['soldquantity'].sum().reset_index()"
      ],
      "execution_count": 0,
      "outputs": []
    },
    {
      "cell_type": "code",
      "metadata": {
        "id": "TZRuHWfhd1Fh",
        "colab_type": "code",
        "colab": {
          "base_uri": "https://localhost:8080/",
          "height": 419
        },
        "outputId": "0a4aa189-f003-47a4-8d68-bb30b4a16c92"
      },
      "source": [
        "daily_new"
      ],
      "execution_count": 49,
      "outputs": [
        {
          "output_type": "execute_result",
          "data": {
            "text/html": [
              "<div>\n",
              "<style scoped>\n",
              "    .dataframe tbody tr th:only-of-type {\n",
              "        vertical-align: middle;\n",
              "    }\n",
              "\n",
              "    .dataframe tbody tr th {\n",
              "        vertical-align: top;\n",
              "    }\n",
              "\n",
              "    .dataframe thead th {\n",
              "        text-align: right;\n",
              "    }\n",
              "</style>\n",
              "<table border=\"1\" class=\"dataframe\">\n",
              "  <thead>\n",
              "    <tr style=\"text-align: right;\">\n",
              "      <th></th>\n",
              "      <th>date</th>\n",
              "      <th>soldquantity</th>\n",
              "    </tr>\n",
              "  </thead>\n",
              "  <tbody>\n",
              "    <tr>\n",
              "      <th>0</th>\n",
              "      <td>2018-11-01</td>\n",
              "      <td>3640</td>\n",
              "    </tr>\n",
              "    <tr>\n",
              "      <th>1</th>\n",
              "      <td>2018-11-02</td>\n",
              "      <td>3424</td>\n",
              "    </tr>\n",
              "    <tr>\n",
              "      <th>2</th>\n",
              "      <td>2018-11-03</td>\n",
              "      <td>3060</td>\n",
              "    </tr>\n",
              "    <tr>\n",
              "      <th>3</th>\n",
              "      <td>2018-11-04</td>\n",
              "      <td>3274</td>\n",
              "    </tr>\n",
              "    <tr>\n",
              "      <th>4</th>\n",
              "      <td>2018-11-05</td>\n",
              "      <td>3445</td>\n",
              "    </tr>\n",
              "    <tr>\n",
              "      <th>...</th>\n",
              "      <td>...</td>\n",
              "      <td>...</td>\n",
              "    </tr>\n",
              "    <tr>\n",
              "      <th>56</th>\n",
              "      <td>2019-01-07</td>\n",
              "      <td>2954</td>\n",
              "    </tr>\n",
              "    <tr>\n",
              "      <th>57</th>\n",
              "      <td>2019-01-08</td>\n",
              "      <td>3828</td>\n",
              "    </tr>\n",
              "    <tr>\n",
              "      <th>58</th>\n",
              "      <td>2019-01-09</td>\n",
              "      <td>3778</td>\n",
              "    </tr>\n",
              "    <tr>\n",
              "      <th>59</th>\n",
              "      <td>2019-01-10</td>\n",
              "      <td>3584</td>\n",
              "    </tr>\n",
              "    <tr>\n",
              "      <th>60</th>\n",
              "      <td>2019-01-11</td>\n",
              "      <td>3073</td>\n",
              "    </tr>\n",
              "  </tbody>\n",
              "</table>\n",
              "<p>61 rows × 2 columns</p>\n",
              "</div>"
            ],
            "text/plain": [
              "          date  soldquantity\n",
              "0   2018-11-01          3640\n",
              "1   2018-11-02          3424\n",
              "2   2018-11-03          3060\n",
              "3   2018-11-04          3274\n",
              "4   2018-11-05          3445\n",
              "..         ...           ...\n",
              "56  2019-01-07          2954\n",
              "57  2019-01-08          3828\n",
              "58  2019-01-09          3778\n",
              "59  2019-01-10          3584\n",
              "60  2019-01-11          3073\n",
              "\n",
              "[61 rows x 2 columns]"
            ]
          },
          "metadata": {
            "tags": []
          },
          "execution_count": 49
        }
      ]
    },
    {
      "cell_type": "code",
      "metadata": {
        "id": "DeIqX__6eyNt",
        "colab_type": "code",
        "colab": {}
      },
      "source": [
        "daily_new['date'] = pd.to_datetime(daily_new['date'], errors='coerce')"
      ],
      "execution_count": 0,
      "outputs": []
    },
    {
      "cell_type": "code",
      "metadata": {
        "id": "inJUVcaxS5Cm",
        "colab_type": "code",
        "colab": {}
      },
      "source": [
        "daily_new['date'] = daily_new['date'].dt.strftime('%d%m%Y')"
      ],
      "execution_count": 0,
      "outputs": []
    },
    {
      "cell_type": "code",
      "metadata": {
        "id": "aP1TBDouVjc6",
        "colab_type": "code",
        "colab": {
          "base_uri": "https://localhost:8080/",
          "height": 204
        },
        "outputId": "20d1ec9c-dcdb-4691-d046-ca96760d2732"
      },
      "source": [
        "daily_new.head()"
      ],
      "execution_count": 52,
      "outputs": [
        {
          "output_type": "execute_result",
          "data": {
            "text/html": [
              "<div>\n",
              "<style scoped>\n",
              "    .dataframe tbody tr th:only-of-type {\n",
              "        vertical-align: middle;\n",
              "    }\n",
              "\n",
              "    .dataframe tbody tr th {\n",
              "        vertical-align: top;\n",
              "    }\n",
              "\n",
              "    .dataframe thead th {\n",
              "        text-align: right;\n",
              "    }\n",
              "</style>\n",
              "<table border=\"1\" class=\"dataframe\">\n",
              "  <thead>\n",
              "    <tr style=\"text-align: right;\">\n",
              "      <th></th>\n",
              "      <th>date</th>\n",
              "      <th>soldquantity</th>\n",
              "    </tr>\n",
              "  </thead>\n",
              "  <tbody>\n",
              "    <tr>\n",
              "      <th>0</th>\n",
              "      <td>01112018</td>\n",
              "      <td>3640</td>\n",
              "    </tr>\n",
              "    <tr>\n",
              "      <th>1</th>\n",
              "      <td>02112018</td>\n",
              "      <td>3424</td>\n",
              "    </tr>\n",
              "    <tr>\n",
              "      <th>2</th>\n",
              "      <td>03112018</td>\n",
              "      <td>3060</td>\n",
              "    </tr>\n",
              "    <tr>\n",
              "      <th>3</th>\n",
              "      <td>04112018</td>\n",
              "      <td>3274</td>\n",
              "    </tr>\n",
              "    <tr>\n",
              "      <th>4</th>\n",
              "      <td>05112018</td>\n",
              "      <td>3445</td>\n",
              "    </tr>\n",
              "  </tbody>\n",
              "</table>\n",
              "</div>"
            ],
            "text/plain": [
              "       date  soldquantity\n",
              "0  01112018          3640\n",
              "1  02112018          3424\n",
              "2  03112018          3060\n",
              "3  04112018          3274\n",
              "4  05112018          3445"
            ]
          },
          "metadata": {
            "tags": []
          },
          "execution_count": 52
        }
      ]
    },
    {
      "cell_type": "code",
      "metadata": {
        "id": "V-ogF31lHC-y",
        "colab_type": "code",
        "colab": {
          "base_uri": "https://localhost:8080/",
          "height": 34
        },
        "outputId": "59abdb27-920e-4f8b-ba77-2fb99851a592"
      },
      "source": [
        "daily_new.shape"
      ],
      "execution_count": 53,
      "outputs": [
        {
          "output_type": "execute_result",
          "data": {
            "text/plain": [
              "(61, 2)"
            ]
          },
          "metadata": {
            "tags": []
          },
          "execution_count": 53
        }
      ]
    },
    {
      "cell_type": "code",
      "metadata": {
        "id": "YkwfM9Q8QjAA",
        "colab_type": "code",
        "colab": {}
      },
      "source": [
        "train, test = daily_new[:-12], daily_new[-12:]"
      ],
      "execution_count": 0,
      "outputs": []
    },
    {
      "cell_type": "code",
      "metadata": {
        "id": "Lobe1f9kRsgK",
        "colab_type": "code",
        "colab": {}
      },
      "source": [
        "from sklearn.preprocessing import MinMaxScaler"
      ],
      "execution_count": 0,
      "outputs": []
    },
    {
      "cell_type": "code",
      "metadata": {
        "id": "Zq8zHLhSQkLF",
        "colab_type": "code",
        "colab": {}
      },
      "source": [
        "scaler = MinMaxScaler()\n",
        "scaler.fit(train)\n",
        "train = scaler.transform(train)\n",
        "test = scaler.transform(test)"
      ],
      "execution_count": 0,
      "outputs": []
    },
    {
      "cell_type": "code",
      "metadata": {
        "id": "mg7ZcgRPfh0v",
        "colab_type": "code",
        "colab": {}
      },
      "source": [
        "import matplotlib.pyplot as plt\n",
        "%matplotlib inline\n",
        "from statsmodels.tools.eval_measures import rmse\n",
        "from sklearn.preprocessing import MinMaxScaler\n",
        "from keras.preprocessing.sequence import TimeseriesGenerator\n",
        "from keras.models import Sequential\n",
        "from keras.layers import Dense\n",
        "from keras.layers import LSTM\n",
        "from keras.layers import Dropout\n",
        "import warnings\n",
        "warnings.filterwarnings(\"ignore\")"
      ],
      "execution_count": 0,
      "outputs": []
    },
    {
      "cell_type": "code",
      "metadata": {
        "id": "O7WHaadQQmTw",
        "colab_type": "code",
        "colab": {}
      },
      "source": [
        "n_input = 12\n",
        "n_features = 2\n",
        "generator = TimeseriesGenerator(train, train, length=n_input, batch_size=32)"
      ],
      "execution_count": 0,
      "outputs": []
    },
    {
      "cell_type": "code",
      "metadata": {
        "id": "lNW9lBPXQog9",
        "colab_type": "code",
        "colab": {}
      },
      "source": [
        "model = Sequential()\n",
        "model.add(LSTM(200, activation='relu', input_shape=(n_input, n_features)))\n",
        "model.add(Dropout(0.15))\n",
        "model.add(Dense(1))\n",
        "model.add(Dense(2, activation='softmax'))\n",
        "model.compile(optimizer='adam', loss='mse')"
      ],
      "execution_count": 0,
      "outputs": []
    },
    {
      "cell_type": "code",
      "metadata": {
        "id": "6t3xqhqRQqiF",
        "colab_type": "code",
        "colab": {
          "base_uri": "https://localhost:8080/",
          "height": 1000
        },
        "outputId": "af61edcc-197c-4ce8-aa3a-2fa53ab15e86"
      },
      "source": [
        "model.fit_generator(generator,epochs=90)"
      ],
      "execution_count": 71,
      "outputs": [
        {
          "output_type": "stream",
          "text": [
            "Epoch 1/90\n",
            "2/2 [==============================] - 0s 186ms/step - loss: 0.1069\n",
            "Epoch 2/90\n",
            "2/2 [==============================] - 0s 27ms/step - loss: 0.0997\n",
            "Epoch 3/90\n",
            "2/2 [==============================] - 0s 26ms/step - loss: 0.0872\n",
            "Epoch 4/90\n",
            "2/2 [==============================] - 0s 28ms/step - loss: 0.0785\n",
            "Epoch 5/90\n",
            "2/2 [==============================] - 0s 26ms/step - loss: 0.0715\n",
            "Epoch 6/90\n",
            "2/2 [==============================] - 0s 27ms/step - loss: 0.0693\n",
            "Epoch 7/90\n",
            "2/2 [==============================] - 0s 27ms/step - loss: 0.0742\n",
            "Epoch 8/90\n",
            "2/2 [==============================] - 0s 26ms/step - loss: 0.0717\n",
            "Epoch 9/90\n",
            "2/2 [==============================] - 0s 27ms/step - loss: 0.0720\n",
            "Epoch 10/90\n",
            "2/2 [==============================] - 0s 27ms/step - loss: 0.0697\n",
            "Epoch 11/90\n",
            "2/2 [==============================] - 0s 27ms/step - loss: 0.0678\n",
            "Epoch 12/90\n",
            "2/2 [==============================] - 0s 27ms/step - loss: 0.0672\n",
            "Epoch 13/90\n",
            "2/2 [==============================] - 0s 26ms/step - loss: 0.0648\n",
            "Epoch 14/90\n",
            "2/2 [==============================] - 0s 31ms/step - loss: 0.0643\n",
            "Epoch 15/90\n",
            "2/2 [==============================] - 0s 27ms/step - loss: 0.0625\n",
            "Epoch 16/90\n",
            "2/2 [==============================] - 0s 26ms/step - loss: 0.0637\n",
            "Epoch 17/90\n",
            "2/2 [==============================] - 0s 27ms/step - loss: 0.0610\n",
            "Epoch 18/90\n",
            "2/2 [==============================] - 0s 27ms/step - loss: 0.0596\n",
            "Epoch 19/90\n",
            "2/2 [==============================] - 0s 27ms/step - loss: 0.0599\n",
            "Epoch 20/90\n",
            "2/2 [==============================] - 0s 27ms/step - loss: 0.0588\n",
            "Epoch 21/90\n",
            "2/2 [==============================] - 0s 27ms/step - loss: 0.0591\n",
            "Epoch 22/90\n",
            "2/2 [==============================] - 0s 34ms/step - loss: 0.0578\n",
            "Epoch 23/90\n",
            "2/2 [==============================] - 0s 29ms/step - loss: 0.0548\n",
            "Epoch 24/90\n",
            "2/2 [==============================] - 0s 29ms/step - loss: 0.0557\n",
            "Epoch 25/90\n",
            "2/2 [==============================] - 0s 27ms/step - loss: 0.0545\n",
            "Epoch 26/90\n",
            "2/2 [==============================] - 0s 27ms/step - loss: 0.0527\n",
            "Epoch 27/90\n",
            "2/2 [==============================] - 0s 29ms/step - loss: 0.0523\n",
            "Epoch 28/90\n",
            "2/2 [==============================] - 0s 29ms/step - loss: 0.0518\n",
            "Epoch 29/90\n",
            "2/2 [==============================] - 0s 27ms/step - loss: 0.0519\n",
            "Epoch 30/90\n",
            "2/2 [==============================] - 0s 26ms/step - loss: 0.0491\n",
            "Epoch 31/90\n",
            "2/2 [==============================] - 0s 28ms/step - loss: 0.0485\n",
            "Epoch 32/90\n",
            "2/2 [==============================] - 0s 26ms/step - loss: 0.0500\n",
            "Epoch 33/90\n",
            "2/2 [==============================] - 0s 25ms/step - loss: 0.0482\n",
            "Epoch 34/90\n",
            "2/2 [==============================] - 0s 29ms/step - loss: 0.0486\n",
            "Epoch 35/90\n",
            "2/2 [==============================] - 0s 28ms/step - loss: 0.0465\n",
            "Epoch 36/90\n",
            "2/2 [==============================] - 0s 26ms/step - loss: 0.0472\n",
            "Epoch 37/90\n",
            "2/2 [==============================] - 0s 27ms/step - loss: 0.0484\n",
            "Epoch 38/90\n",
            "2/2 [==============================] - 0s 27ms/step - loss: 0.0469\n",
            "Epoch 39/90\n",
            "2/2 [==============================] - 0s 26ms/step - loss: 0.0468\n",
            "Epoch 40/90\n",
            "2/2 [==============================] - 0s 27ms/step - loss: 0.0466\n",
            "Epoch 41/90\n",
            "2/2 [==============================] - 0s 26ms/step - loss: 0.0456\n",
            "Epoch 42/90\n",
            "2/2 [==============================] - 0s 24ms/step - loss: 0.0455\n",
            "Epoch 43/90\n",
            "2/2 [==============================] - 0s 26ms/step - loss: 0.0455\n",
            "Epoch 44/90\n",
            "2/2 [==============================] - 0s 29ms/step - loss: 0.0459\n",
            "Epoch 45/90\n",
            "2/2 [==============================] - 0s 27ms/step - loss: 0.0440\n",
            "Epoch 46/90\n",
            "2/2 [==============================] - 0s 27ms/step - loss: 0.0448\n",
            "Epoch 47/90\n",
            "2/2 [==============================] - 0s 27ms/step - loss: 0.0437\n",
            "Epoch 48/90\n",
            "2/2 [==============================] - 0s 29ms/step - loss: 0.0431\n",
            "Epoch 49/90\n",
            "2/2 [==============================] - 0s 30ms/step - loss: 0.0437\n",
            "Epoch 50/90\n",
            "2/2 [==============================] - 0s 30ms/step - loss: 0.0437\n",
            "Epoch 51/90\n",
            "2/2 [==============================] - 0s 32ms/step - loss: 0.0450\n",
            "Epoch 52/90\n",
            "2/2 [==============================] - 0s 28ms/step - loss: 0.0419\n",
            "Epoch 53/90\n",
            "2/2 [==============================] - 0s 26ms/step - loss: 0.0425\n",
            "Epoch 54/90\n",
            "2/2 [==============================] - 0s 30ms/step - loss: 0.0413\n",
            "Epoch 55/90\n",
            "2/2 [==============================] - 0s 29ms/step - loss: 0.0436\n",
            "Epoch 56/90\n",
            "2/2 [==============================] - 0s 25ms/step - loss: 0.0418\n",
            "Epoch 57/90\n",
            "2/2 [==============================] - 0s 26ms/step - loss: 0.0412\n",
            "Epoch 58/90\n",
            "2/2 [==============================] - 0s 30ms/step - loss: 0.0416\n",
            "Epoch 59/90\n",
            "2/2 [==============================] - 0s 29ms/step - loss: 0.0402\n",
            "Epoch 60/90\n",
            "2/2 [==============================] - 0s 25ms/step - loss: 0.0402\n",
            "Epoch 61/90\n",
            "2/2 [==============================] - 0s 28ms/step - loss: 0.0403\n",
            "Epoch 62/90\n",
            "2/2 [==============================] - 0s 27ms/step - loss: 0.0415\n",
            "Epoch 63/90\n",
            "2/2 [==============================] - 0s 26ms/step - loss: 0.0408\n",
            "Epoch 64/90\n",
            "2/2 [==============================] - 0s 29ms/step - loss: 0.0425\n",
            "Epoch 65/90\n",
            "2/2 [==============================] - 0s 28ms/step - loss: 0.0417\n",
            "Epoch 66/90\n",
            "2/2 [==============================] - 0s 27ms/step - loss: 0.0426\n",
            "Epoch 67/90\n",
            "2/2 [==============================] - 0s 25ms/step - loss: 0.0414\n",
            "Epoch 68/90\n",
            "2/2 [==============================] - 0s 24ms/step - loss: 0.0411\n",
            "Epoch 69/90\n",
            "2/2 [==============================] - 0s 28ms/step - loss: 0.0427\n",
            "Epoch 70/90\n",
            "2/2 [==============================] - 0s 24ms/step - loss: 0.0397\n",
            "Epoch 71/90\n",
            "2/2 [==============================] - 0s 27ms/step - loss: 0.0394\n",
            "Epoch 72/90\n",
            "2/2 [==============================] - 0s 29ms/step - loss: 0.0391\n",
            "Epoch 73/90\n",
            "2/2 [==============================] - 0s 27ms/step - loss: 0.0392\n",
            "Epoch 74/90\n",
            "2/2 [==============================] - 0s 30ms/step - loss: 0.0389\n",
            "Epoch 75/90\n",
            "2/2 [==============================] - 0s 26ms/step - loss: 0.0396\n",
            "Epoch 76/90\n",
            "2/2 [==============================] - 0s 29ms/step - loss: 0.0381\n",
            "Epoch 77/90\n",
            "2/2 [==============================] - 0s 27ms/step - loss: 0.0385\n",
            "Epoch 78/90\n",
            "2/2 [==============================] - 0s 26ms/step - loss: 0.0391\n",
            "Epoch 79/90\n",
            "2/2 [==============================] - 0s 28ms/step - loss: 0.0388\n",
            "Epoch 80/90\n",
            "2/2 [==============================] - 0s 26ms/step - loss: 0.0395\n",
            "Epoch 81/90\n",
            "2/2 [==============================] - 0s 28ms/step - loss: 0.0381\n",
            "Epoch 82/90\n",
            "2/2 [==============================] - 0s 27ms/step - loss: 0.0383\n",
            "Epoch 83/90\n",
            "2/2 [==============================] - 0s 26ms/step - loss: 0.0376\n",
            "Epoch 84/90\n",
            "2/2 [==============================] - 0s 30ms/step - loss: 0.0391\n",
            "Epoch 85/90\n",
            "2/2 [==============================] - 0s 26ms/step - loss: 0.0395\n",
            "Epoch 86/90\n",
            "2/2 [==============================] - 0s 26ms/step - loss: 0.0375\n",
            "Epoch 87/90\n",
            "2/2 [==============================] - 0s 29ms/step - loss: 0.0388\n",
            "Epoch 88/90\n",
            "2/2 [==============================] - 0s 26ms/step - loss: 0.0383\n",
            "Epoch 89/90\n",
            "2/2 [==============================] - 0s 26ms/step - loss: 0.0380\n",
            "Epoch 90/90\n",
            "2/2 [==============================] - 0s 25ms/step - loss: 0.0386\n"
          ],
          "name": "stdout"
        },
        {
          "output_type": "execute_result",
          "data": {
            "text/plain": [
              "<keras.callbacks.callbacks.History at 0x7f7ca266ca58>"
            ]
          },
          "metadata": {
            "tags": []
          },
          "execution_count": 71
        }
      ]
    },
    {
      "cell_type": "code",
      "metadata": {
        "id": "ZaXhsX8AQsen",
        "colab_type": "code",
        "colab": {}
      },
      "source": [
        "pred_list = []\n",
        "\n",
        "batch = train[-n_input:].reshape((1, n_input, n_features))\n",
        "\n",
        "for i in range(n_input):   \n",
        "    pred_list.append(model.predict(batch)[0]) \n",
        "    batch = np.append(batch[:,1:,:],[[pred_list[i]]],axis=1)"
      ],
      "execution_count": 0,
      "outputs": []
    },
    {
      "cell_type": "code",
      "metadata": {
        "id": "VO6u3LjOQvT1",
        "colab_type": "code",
        "colab": {}
      },
      "source": [
        "daily_predict = pd.DataFrame(scaler.inverse_transform(pred_list),\n",
        "                          index=daily_new[-n_input:].index, columns=['Prediction1','Prediction'])\n",
        "\n",
        "daily_test = pd.concat([daily_new,daily_predict], axis=1)\n"
      ],
      "execution_count": 0,
      "outputs": []
    },
    {
      "cell_type": "code",
      "metadata": {
        "id": "Ic11jYqqQykR",
        "colab_type": "code",
        "colab": {
          "base_uri": "https://localhost:8080/",
          "height": 345
        },
        "outputId": "e41a20dd-0e42-4405-dfe3-3ca6ac164f02"
      },
      "source": [
        "plt.figure(figsize=(20, 5))\n",
        "plt.plot(daily_test.index, daily_test['soldquantity'])\n",
        "plt.plot(daily_test.index, daily_test['Prediction'], color='r')\n",
        "plt.legend(loc='best', fontsize='xx-large')\n",
        "plt.xticks(fontsize=18)\n",
        "plt.yticks(fontsize=16)\n",
        "plt.show()"
      ],
      "execution_count": 74,
      "outputs": [
        {
          "output_type": "stream",
          "text": [
            "No handles with labels found to put in legend.\n"
          ],
          "name": "stderr"
        },
        {
          "output_type": "display_data",
          "data": {
            "image/png": "[encoded data removed]",
            "text/plain": [
              "<Figure size 1440x360 with 1 Axes>"
            ]
          },
          "metadata": {
            "tags": [],
            "needs_background": "light"
          }
        }
      ]
    },
    {
      "cell_type": "code",
      "metadata": {
        "id": "cg_f7ZCVeQIu",
        "colab_type": "code",
        "colab": {
          "base_uri": "https://localhost:8080/",
          "height": 238
        },
        "outputId": "d7dd7c66-5a16-4fb3-b311-d2f9adee6095"
      },
      "source": [
        "a = daily_test.iloc[-n_input:, [0]]\n",
        "\n",
        "print(a)"
      ],
      "execution_count": 107,
      "outputs": [
        {
          "output_type": "stream",
          "text": [
            "        date\n",
            "49  31122018\n",
            "50  01012019\n",
            "51  02012019\n",
            "52  03012019\n",
            "53  04012019\n",
            "54  05012019\n",
            "55  06012019\n",
            "56  07012019\n",
            "57  08012019\n",
            "58  09012019\n",
            "59  10012019\n",
            "60  11012019\n"
          ],
          "name": "stdout"
        }
      ]
    },
    {
      "cell_type": "code",
      "metadata": {
        "id": "2GAZmo7DeTJB",
        "colab_type": "code",
        "colab": {}
      },
      "source": [
        "b = daily_test.iloc[-n_input:, [1]]"
      ],
      "execution_count": 0,
      "outputs": []
    },
    {
      "cell_type": "code",
      "metadata": {
        "id": "3Fdt7iVR0eE9",
        "colab_type": "code",
        "colab": {
          "base_uri": "https://localhost:8080/",
          "height": 419
        },
        "outputId": "1faa66e5-9e0c-40fa-b2bf-67620823acb9"
      },
      "source": [
        "daily_test.fillna(0)"
      ],
      "execution_count": 91,
      "outputs": [
        {
          "output_type": "execute_result",
          "data": {
            "text/html": [
              "<div>\n",
              "<style scoped>\n",
              "    .dataframe tbody tr th:only-of-type {\n",
              "        vertical-align: middle;\n",
              "    }\n",
              "\n",
              "    .dataframe tbody tr th {\n",
              "        vertical-align: top;\n",
              "    }\n",
              "\n",
              "    .dataframe thead th {\n",
              "        text-align: right;\n",
              "    }\n",
              "</style>\n",
              "<table border=\"1\" class=\"dataframe\">\n",
              "  <thead>\n",
              "    <tr style=\"text-align: right;\">\n",
              "      <th></th>\n",
              "      <th>date</th>\n",
              "      <th>soldquantity</th>\n",
              "      <th>Prediction1</th>\n",
              "      <th>Prediction</th>\n",
              "    </tr>\n",
              "  </thead>\n",
              "  <tbody>\n",
              "    <tr>\n",
              "      <th>0</th>\n",
              "      <td>01112018</td>\n",
              "      <td>3640</td>\n",
              "      <td>0.000000e+00</td>\n",
              "      <td>0.000000</td>\n",
              "    </tr>\n",
              "    <tr>\n",
              "      <th>1</th>\n",
              "      <td>02112018</td>\n",
              "      <td>3424</td>\n",
              "      <td>0.000000e+00</td>\n",
              "      <td>0.000000</td>\n",
              "    </tr>\n",
              "    <tr>\n",
              "      <th>2</th>\n",
              "      <td>03112018</td>\n",
              "      <td>3060</td>\n",
              "      <td>0.000000e+00</td>\n",
              "      <td>0.000000</td>\n",
              "    </tr>\n",
              "    <tr>\n",
              "      <th>3</th>\n",
              "      <td>04112018</td>\n",
              "      <td>3274</td>\n",
              "      <td>0.000000e+00</td>\n",
              "      <td>0.000000</td>\n",
              "    </tr>\n",
              "    <tr>\n",
              "      <th>4</th>\n",
              "      <td>05112018</td>\n",
              "      <td>3445</td>\n",
              "      <td>0.000000e+00</td>\n",
              "      <td>0.000000</td>\n",
              "    </tr>\n",
              "    <tr>\n",
              "      <th>...</th>\n",
              "      <td>...</td>\n",
              "      <td>...</td>\n",
              "      <td>...</td>\n",
              "      <td>...</td>\n",
              "    </tr>\n",
              "    <tr>\n",
              "      <th>56</th>\n",
              "      <td>07012019</td>\n",
              "      <td>2954</td>\n",
              "      <td>1.159971e+07</td>\n",
              "      <td>4002.185904</td>\n",
              "    </tr>\n",
              "    <tr>\n",
              "      <th>57</th>\n",
              "      <td>08012019</td>\n",
              "      <td>3828</td>\n",
              "      <td>1.159411e+07</td>\n",
              "      <td>4002.674596</td>\n",
              "    </tr>\n",
              "    <tr>\n",
              "      <th>58</th>\n",
              "      <td>09012019</td>\n",
              "      <td>3778</td>\n",
              "      <td>1.171708e+07</td>\n",
              "      <td>3991.925341</td>\n",
              "    </tr>\n",
              "    <tr>\n",
              "      <th>59</th>\n",
              "      <td>10012019</td>\n",
              "      <td>3584</td>\n",
              "      <td>1.186949e+07</td>\n",
              "      <td>3978.601725</td>\n",
              "    </tr>\n",
              "    <tr>\n",
              "      <th>60</th>\n",
              "      <td>11012019</td>\n",
              "      <td>3073</td>\n",
              "      <td>1.198195e+07</td>\n",
              "      <td>3968.770449</td>\n",
              "    </tr>\n",
              "  </tbody>\n",
              "</table>\n",
              "<p>61 rows × 4 columns</p>\n",
              "</div>"
            ],
            "text/plain": [
              "        date  soldquantity   Prediction1   Prediction\n",
              "0   01112018          3640  0.000000e+00     0.000000\n",
              "1   02112018          3424  0.000000e+00     0.000000\n",
              "2   03112018          3060  0.000000e+00     0.000000\n",
              "3   04112018          3274  0.000000e+00     0.000000\n",
              "4   05112018          3445  0.000000e+00     0.000000\n",
              "..       ...           ...           ...          ...\n",
              "56  07012019          2954  1.159971e+07  4002.185904\n",
              "57  08012019          3828  1.159411e+07  4002.674596\n",
              "58  09012019          3778  1.171708e+07  3991.925341\n",
              "59  10012019          3584  1.186949e+07  3978.601725\n",
              "60  11012019          3073  1.198195e+07  3968.770449\n",
              "\n",
              "[61 rows x 4 columns]"
            ]
          },
          "metadata": {
            "tags": []
          },
          "execution_count": 91
        }
      ]
    },
    {
      "cell_type": "code",
      "metadata": {
        "id": "WnmO5_cGQ4W8",
        "colab_type": "code",
        "colab": {
          "base_uri": "https://localhost:8080/",
          "height": 323
        },
        "outputId": "9bda24c1-eaca-4b77-ea55-2ec3410eb972"
      },
      "source": [
        "pred_actual_rmse = rmse(a, b)\n",
        "print(\"rmse: \", pred_actual_rmse)"
      ],
      "execution_count": 108,
      "outputs": [
        {
          "output_type": "error",
          "ename": "TypeError",
          "evalue": "ignored",
          "traceback": [
            "\u001b[0;31m---------------------------------------------------------------------------\u001b[0m",
            "\u001b[0;31mTypeError\u001b[0m                                 Traceback (most recent call last)",
            "\u001b[0;32m<ipython-input-108-49da2fbd047b>\u001b[0m in \u001b[0;36m<module>\u001b[0;34m()\u001b[0m\n\u001b[0;32m----> 1\u001b[0;31m \u001b[0mpred_actual_rmse\u001b[0m \u001b[0;34m=\u001b[0m \u001b[0mrmse\u001b[0m\u001b[0;34m(\u001b[0m\u001b[0ma\u001b[0m\u001b[0;34m,\u001b[0m \u001b[0mb\u001b[0m\u001b[0;34m)\u001b[0m\u001b[0;34m\u001b[0m\u001b[0;34m\u001b[0m\u001b[0m\n\u001b[0m\u001b[1;32m      2\u001b[0m \u001b[0mprint\u001b[0m\u001b[0;34m(\u001b[0m\u001b[0;34m\"rmse: \"\u001b[0m\u001b[0;34m,\u001b[0m \u001b[0mpred_actual_rmse\u001b[0m\u001b[0;34m)\u001b[0m\u001b[0;34m\u001b[0m\u001b[0;34m\u001b[0m\u001b[0m\n",
            "\u001b[0;32m/usr/local/lib/python3.6/dist-packages/statsmodels/tools/eval_measures.py\u001b[0m in \u001b[0;36mrmse\u001b[0;34m(x1, x2, axis)\u001b[0m\n\u001b[1;32m     66\u001b[0m     \u001b[0mx1\u001b[0m \u001b[0;34m=\u001b[0m \u001b[0mnp\u001b[0m\u001b[0;34m.\u001b[0m\u001b[0masanyarray\u001b[0m\u001b[0;34m(\u001b[0m\u001b[0mx1\u001b[0m\u001b[0;34m)\u001b[0m\u001b[0;34m\u001b[0m\u001b[0;34m\u001b[0m\u001b[0m\n\u001b[1;32m     67\u001b[0m     \u001b[0mx2\u001b[0m \u001b[0;34m=\u001b[0m \u001b[0mnp\u001b[0m\u001b[0;34m.\u001b[0m\u001b[0masanyarray\u001b[0m\u001b[0;34m(\u001b[0m\u001b[0mx2\u001b[0m\u001b[0;34m)\u001b[0m\u001b[0;34m\u001b[0m\u001b[0;34m\u001b[0m\u001b[0m\n\u001b[0;32m---> 68\u001b[0;31m     \u001b[0;32mreturn\u001b[0m \u001b[0mnp\u001b[0m\u001b[0;34m.\u001b[0m\u001b[0msqrt\u001b[0m\u001b[0;34m(\u001b[0m\u001b[0mmse\u001b[0m\u001b[0;34m(\u001b[0m\u001b[0mx1\u001b[0m\u001b[0;34m,\u001b[0m \u001b[0mx2\u001b[0m\u001b[0;34m,\u001b[0m \u001b[0maxis\u001b[0m\u001b[0;34m=\u001b[0m\u001b[0maxis\u001b[0m\u001b[0;34m)\u001b[0m\u001b[0;34m)\u001b[0m\u001b[0;34m\u001b[0m\u001b[0;34m\u001b[0m\u001b[0m\n\u001b[0m\u001b[1;32m     69\u001b[0m \u001b[0;34m\u001b[0m\u001b[0m\n\u001b[1;32m     70\u001b[0m \u001b[0;34m\u001b[0m\u001b[0m\n",
            "\u001b[0;32m/usr/local/lib/python3.6/dist-packages/statsmodels/tools/eval_measures.py\u001b[0m in \u001b[0;36mmse\u001b[0;34m(x1, x2, axis)\u001b[0m\n\u001b[1;32m     37\u001b[0m     \u001b[0mx1\u001b[0m \u001b[0;34m=\u001b[0m \u001b[0mnp\u001b[0m\u001b[0;34m.\u001b[0m\u001b[0masanyarray\u001b[0m\u001b[0;34m(\u001b[0m\u001b[0mx1\u001b[0m\u001b[0;34m)\u001b[0m\u001b[0;34m\u001b[0m\u001b[0;34m\u001b[0m\u001b[0m\n\u001b[1;32m     38\u001b[0m     \u001b[0mx2\u001b[0m \u001b[0;34m=\u001b[0m \u001b[0mnp\u001b[0m\u001b[0;34m.\u001b[0m\u001b[0masanyarray\u001b[0m\u001b[0;34m(\u001b[0m\u001b[0mx2\u001b[0m\u001b[0;34m)\u001b[0m\u001b[0;34m\u001b[0m\u001b[0;34m\u001b[0m\u001b[0m\n\u001b[0;32m---> 39\u001b[0;31m     \u001b[0;32mreturn\u001b[0m \u001b[0mnp\u001b[0m\u001b[0;34m.\u001b[0m\u001b[0mmean\u001b[0m\u001b[0;34m(\u001b[0m\u001b[0;34m(\u001b[0m\u001b[0mx1\u001b[0m\u001b[0;34m-\u001b[0m\u001b[0mx2\u001b[0m\u001b[0;34m)\u001b[0m\u001b[0;34m**\u001b[0m\u001b[0;36m2\u001b[0m\u001b[0;34m,\u001b[0m \u001b[0maxis\u001b[0m\u001b[0;34m=\u001b[0m\u001b[0maxis\u001b[0m\u001b[0;34m)\u001b[0m\u001b[0;34m\u001b[0m\u001b[0;34m\u001b[0m\u001b[0m\n\u001b[0m\u001b[1;32m     40\u001b[0m \u001b[0;34m\u001b[0m\u001b[0m\n\u001b[1;32m     41\u001b[0m \u001b[0;34m\u001b[0m\u001b[0m\n",
            "\u001b[0;31mTypeError\u001b[0m: unsupported operand type(s) for -: 'str' and 'int'"
          ]
        }
      ]
    }
  ]
}