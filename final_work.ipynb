{
 "cells": [
  {
   "cell_type": "markdown",
   "metadata": {},
   "source": [
    "# Imports"
   ]
  },
  {
   "cell_type": "code",
   "execution_count": 1,
   "metadata": {},
   "outputs": [],
   "source": [
    "import matplotlib.pyplot as plt"
   ]
  },
  {
   "cell_type": "code",
   "execution_count": 2,
   "metadata": {},
   "outputs": [],
   "source": [
    "import pandas as pd\n",
    "import numpy as np"
   ]
  },
  {
   "cell_type": "code",
   "execution_count": 3,
   "metadata": {},
   "outputs": [],
   "source": [
    "from sklearn.model_selection import train_test_split, GridSearchCV, cross_val_score\n",
    "from sklearn.linear_model import LinearRegression\n",
    "from sklearn.neighbors import KNeighborsRegressor\n",
    "from sklearn.ensemble import RandomForestRegressor"
   ]
  },
  {
   "cell_type": "markdown",
   "metadata": {},
   "source": [
    "# Data Reading"
   ]
  },
  {
   "cell_type": "code",
   "execution_count": 4,
   "metadata": {},
   "outputs": [],
   "source": [
    "daily = pd.read_csv('productDailyActions.csv')\n",
    "attributes = pd.read_csv('productAttributes.csv')"
   ]
  },
  {
   "cell_type": "code",
   "execution_count": 5,
   "metadata": {},
   "outputs": [],
   "source": [
    "combined = daily.join(attributes.set_index('productid'), 'productid')"
   ]
  },
  {
   "cell_type": "code",
   "execution_count": 6,
   "metadata": {},
   "outputs": [
    {
     "data": {
      "text/plain": [
       "<matplotlib.axes._subplots.AxesSubplot at 0x2020901b7c8>"
      ]
     },
     "execution_count": 6,
     "metadata": {},
     "output_type": "execute_result"
    },
    {
     "data": {
      "image/png": "[encoded data removed]",
      "text/plain": [
       "<Figure size 1152x288 with 1 Axes>"
      ]
     },
     "metadata": {
      "needs_background": "light"
     },
     "output_type": "display_data"
    }
   ],
   "source": [
    "daily.groupby('date')['soldquantity'].mean().plot.bar(figsize=(16, 4))"
   ]
  },
  {
   "cell_type": "code",
   "execution_count": 7,
   "metadata": {
    "scrolled": true
   },
   "outputs": [],
   "source": [
    "#combined.drop(combined[(combined.date == '2018-11-09')].index, axis=0, inplace=True)\n",
    "#combined.drop(combined[(combined.date == '2018-11-10')].index, axis=0, inplace=True)\n",
    "#combined.drop(combined[(combined.date == '2018-11-11')].index, axis=0, inplace=True)\n",
    "\n",
    "#combined.drop(combined[(combined.date == '2018-11-20')].index, axis=0, inplace=True)\n",
    "#combined.drop(combined[(combined.date == '2018-11-21')].index, axis=0, inplace=True)\n",
    "#combined.drop(combined[(combined.date == '2018-11-22')].index, axis=0, inplace=True)\n",
    "#combined.drop(combined[(combined.date == '2018-11-23')].index, axis=0, inplace=True)\n",
    "#combined.drop(combined[(combined.date == '2018-11-24')].index, axis=0, inplace=True)\n",
    "#combined.drop(combined[(combined.date == '2018-11-25')].index, axis=0, inplace=True)\n",
    "\n",
    "#combined.drop(combined[(combined.date == '2018-12-20')].index, axis=0, inplace=True)\n",
    "#combined.drop(combined[(combined.date == '2018-12-21')].index, axis=0, inplace=True)"
   ]
  },
  {
   "cell_type": "code",
   "execution_count": 8,
   "metadata": {},
   "outputs": [
    {
     "data": {
      "text/plain": [
       "<matplotlib.axes._subplots.AxesSubplot at 0x2020934f4c8>"
      ]
     },
     "execution_count": 8,
     "metadata": {},
     "output_type": "execute_result"
    },
    {
     "data": {
      "image/png": "[encoded data removed]",
      "text/plain": [
       "<Figure size 1152x288 with 1 Axes>"
      ]
     },
     "metadata": {
      "needs_background": "light"
     },
     "output_type": "display_data"
    }
   ],
   "source": [
    "combined.groupby('date')['soldquantity'].mean().plot.bar(figsize=(16, 4))"
   ]
  },
  {
   "cell_type": "markdown",
   "metadata": {},
   "source": [
    "## Dropping Features + Dealing with categorical variables "
   ]
  },
  {
   "cell_type": "code",
   "execution_count": 9,
   "metadata": {},
   "outputs": [
    {
     "name": "stdout",
     "output_type": "stream",
     "text": [
      "Unique number of values for gender: 3\n",
      "Unique number of values for color: 2243\n",
      "Unique number of values for categoryid: 101\n",
      "Unique number of values for brandid: 868\n",
      "Unique number of values for subcategoryid: 103\n"
     ]
    }
   ],
   "source": [
    "for col in ['gender', 'color', 'categoryid', 'brandid', 'subcategoryid']:\n",
    "    print(f\"Unique number of values for {col}: {len(combined[col].unique())}\")"
   ]
  },
  {
   "cell_type": "markdown",
   "metadata": {},
   "source": [
    "### other than gender, the other features have way too many values to generate them as categorical values"
   ]
  },
  {
   "cell_type": "code",
   "execution_count": 10,
   "metadata": {},
   "outputs": [],
   "source": [
    "combined = combined.drop(['color', 'categoryid', 'brandid', 'subcategoryid'], axis=1)"
   ]
  },
  {
   "cell_type": "code",
   "execution_count": 11,
   "metadata": {},
   "outputs": [],
   "source": [
    "combined = pd.get_dummies(combined, columns=['gender'])"
   ]
  },
  {
   "cell_type": "code",
   "execution_count": 12,
   "metadata": {},
   "outputs": [
    {
     "data": {
      "text/html": [
       "<div>\n",
       "<style scoped>\n",
       "    .dataframe tbody tr th:only-of-type {\n",
       "        vertical-align: middle;\n",
       "    }\n",
       "\n",
       "    .dataframe tbody tr th {\n",
       "        vertical-align: top;\n",
       "    }\n",
       "\n",
       "    .dataframe thead th {\n",
       "        text-align: right;\n",
       "    }\n",
       "</style>\n",
       "<table border=\"1\" class=\"dataframe\">\n",
       "  <thead>\n",
       "    <tr style=\"text-align: right;\">\n",
       "      <th></th>\n",
       "      <th>productid</th>\n",
       "      <th>date</th>\n",
       "      <th>soldquantity</th>\n",
       "      <th>stock</th>\n",
       "      <th>clickcount</th>\n",
       "      <th>favoredcount</th>\n",
       "      <th>price</th>\n",
       "      <th>gender_1</th>\n",
       "      <th>gender_2</th>\n",
       "      <th>gender_3</th>\n",
       "    </tr>\n",
       "  </thead>\n",
       "  <tbody>\n",
       "    <tr>\n",
       "      <th>0</th>\n",
       "      <td>1</td>\n",
       "      <td>2018-11-23</td>\n",
       "      <td>0</td>\n",
       "      <td>140</td>\n",
       "      <td>82.0</td>\n",
       "      <td>NaN</td>\n",
       "      <td>1996</td>\n",
       "      <td>1</td>\n",
       "      <td>0</td>\n",
       "      <td>0</td>\n",
       "    </tr>\n",
       "    <tr>\n",
       "      <th>1</th>\n",
       "      <td>21</td>\n",
       "      <td>2018-11-30</td>\n",
       "      <td>0</td>\n",
       "      <td>3</td>\n",
       "      <td>11.0</td>\n",
       "      <td>NaN</td>\n",
       "      <td>1100</td>\n",
       "      <td>0</td>\n",
       "      <td>1</td>\n",
       "      <td>0</td>\n",
       "    </tr>\n",
       "    <tr>\n",
       "      <th>2</th>\n",
       "      <td>21</td>\n",
       "      <td>2018-12-27</td>\n",
       "      <td>0</td>\n",
       "      <td>2</td>\n",
       "      <td>2.0</td>\n",
       "      <td>NaN</td>\n",
       "      <td>1100</td>\n",
       "      <td>0</td>\n",
       "      <td>1</td>\n",
       "      <td>0</td>\n",
       "    </tr>\n",
       "    <tr>\n",
       "      <th>3</th>\n",
       "      <td>21</td>\n",
       "      <td>2019-01-09</td>\n",
       "      <td>0</td>\n",
       "      <td>2</td>\n",
       "      <td>2.0</td>\n",
       "      <td>1.0</td>\n",
       "      <td>1100</td>\n",
       "      <td>0</td>\n",
       "      <td>1</td>\n",
       "      <td>0</td>\n",
       "    </tr>\n",
       "    <tr>\n",
       "      <th>4</th>\n",
       "      <td>21</td>\n",
       "      <td>2018-12-18</td>\n",
       "      <td>0</td>\n",
       "      <td>2</td>\n",
       "      <td>5.0</td>\n",
       "      <td>NaN</td>\n",
       "      <td>1100</td>\n",
       "      <td>0</td>\n",
       "      <td>1</td>\n",
       "      <td>0</td>\n",
       "    </tr>\n",
       "  </tbody>\n",
       "</table>\n",
       "</div>"
      ],
      "text/plain": [
       "   productid        date  soldquantity  stock  clickcount  favoredcount  \\\n",
       "0          1  2018-11-23             0    140        82.0           NaN   \n",
       "1         21  2018-11-30             0      3        11.0           NaN   \n",
       "2         21  2018-12-27             0      2         2.0           NaN   \n",
       "3         21  2019-01-09             0      2         2.0           1.0   \n",
       "4         21  2018-12-18             0      2         5.0           NaN   \n",
       "\n",
       "   price  gender_1  gender_2  gender_3  \n",
       "0   1996         1         0         0  \n",
       "1   1100         0         1         0  \n",
       "2   1100         0         1         0  \n",
       "3   1100         0         1         0  \n",
       "4   1100         0         1         0  "
      ]
     },
     "execution_count": 12,
     "metadata": {},
     "output_type": "execute_result"
    }
   ],
   "source": [
    "combined.head()"
   ]
  },
  {
   "cell_type": "code",
   "execution_count": 13,
   "metadata": {},
   "outputs": [],
   "source": [
    "p = combined[['soldquantity', 'productid']].groupby('productid').mean()"
   ]
  },
  {
   "cell_type": "code",
   "execution_count": 14,
   "metadata": {},
   "outputs": [
    {
     "data": {
      "text/html": [
       "<div>\n",
       "<style scoped>\n",
       "    .dataframe tbody tr th:only-of-type {\n",
       "        vertical-align: middle;\n",
       "    }\n",
       "\n",
       "    .dataframe tbody tr th {\n",
       "        vertical-align: top;\n",
       "    }\n",
       "\n",
       "    .dataframe thead th {\n",
       "        text-align: right;\n",
       "    }\n",
       "</style>\n",
       "<table border=\"1\" class=\"dataframe\">\n",
       "  <thead>\n",
       "    <tr style=\"text-align: right;\">\n",
       "      <th></th>\n",
       "      <th>soldquantity</th>\n",
       "    </tr>\n",
       "    <tr>\n",
       "      <th>productid</th>\n",
       "      <th></th>\n",
       "    </tr>\n",
       "  </thead>\n",
       "  <tbody>\n",
       "    <tr>\n",
       "      <th>91261</th>\n",
       "      <td>0.000000</td>\n",
       "    </tr>\n",
       "    <tr>\n",
       "      <th>84411</th>\n",
       "      <td>0.000000</td>\n",
       "    </tr>\n",
       "    <tr>\n",
       "      <th>45431</th>\n",
       "      <td>0.000000</td>\n",
       "    </tr>\n",
       "    <tr>\n",
       "      <th>111611</th>\n",
       "      <td>0.000000</td>\n",
       "    </tr>\n",
       "    <tr>\n",
       "      <th>111741</th>\n",
       "      <td>0.000000</td>\n",
       "    </tr>\n",
       "    <tr>\n",
       "      <th>...</th>\n",
       "      <td>...</td>\n",
       "    </tr>\n",
       "    <tr>\n",
       "      <th>191311</th>\n",
       "      <td>43.242424</td>\n",
       "    </tr>\n",
       "    <tr>\n",
       "      <th>19891</th>\n",
       "      <td>46.800000</td>\n",
       "    </tr>\n",
       "    <tr>\n",
       "      <th>190891</th>\n",
       "      <td>50.250000</td>\n",
       "    </tr>\n",
       "    <tr>\n",
       "      <th>125161</th>\n",
       "      <td>60.145161</td>\n",
       "    </tr>\n",
       "    <tr>\n",
       "      <th>83741</th>\n",
       "      <td>83.636364</td>\n",
       "    </tr>\n",
       "  </tbody>\n",
       "</table>\n",
       "<p>19359 rows × 1 columns</p>\n",
       "</div>"
      ],
      "text/plain": [
       "           soldquantity\n",
       "productid              \n",
       "91261          0.000000\n",
       "84411          0.000000\n",
       "45431          0.000000\n",
       "111611         0.000000\n",
       "111741         0.000000\n",
       "...                 ...\n",
       "191311        43.242424\n",
       "19891         46.800000\n",
       "190891        50.250000\n",
       "125161        60.145161\n",
       "83741         83.636364\n",
       "\n",
       "[19359 rows x 1 columns]"
      ]
     },
     "execution_count": 14,
     "metadata": {},
     "output_type": "execute_result"
    }
   ],
   "source": [
    "p.sort_values('soldquantity')"
   ]
  },
  {
   "cell_type": "markdown",
   "metadata": {},
   "source": [
    "# Data Engineering"
   ]
  },
  {
   "cell_type": "code",
   "execution_count": 15,
   "metadata": {},
   "outputs": [],
   "source": [
    "combined['date'] = pd.to_datetime(combined['date'])"
   ]
  },
  {
   "cell_type": "markdown",
   "metadata": {},
   "source": [
    "### Creating the target for each product"
   ]
  },
  {
   "cell_type": "code",
   "execution_count": 16,
   "metadata": {},
   "outputs": [],
   "source": [
    "all_product_dfs = []\n",
    "\n",
    "for product in combined['productid'].unique():\n",
    "    product_df = combined[combined['productid']==product].sort_values('date').drop('date', axis=1).fillna(0)\n",
    "    product_df['future_soldquantity'] = product_df['soldquantity'].shift(-1)\n",
    "    product_df = product_df.dropna()\n",
    "    all_product_dfs.append(product_df)"
   ]
  },
  {
   "cell_type": "code",
   "execution_count": 17,
   "metadata": {},
   "outputs": [],
   "source": [
    "full_df = pd.concat(all_product_dfs).reset_index(drop=True)"
   ]
  },
  {
   "cell_type": "code",
   "execution_count": 18,
   "metadata": {},
   "outputs": [
    {
     "data": {
      "text/plain": [
       "(839576, 10)"
      ]
     },
     "execution_count": 18,
     "metadata": {},
     "output_type": "execute_result"
    }
   ],
   "source": [
    "full_df.shape"
   ]
  },
  {
   "cell_type": "code",
   "execution_count": 19,
   "metadata": {},
   "outputs": [
    {
     "data": {
      "text/html": [
       "<div>\n",
       "<style scoped>\n",
       "    .dataframe tbody tr th:only-of-type {\n",
       "        vertical-align: middle;\n",
       "    }\n",
       "\n",
       "    .dataframe tbody tr th {\n",
       "        vertical-align: top;\n",
       "    }\n",
       "\n",
       "    .dataframe thead th {\n",
       "        text-align: right;\n",
       "    }\n",
       "</style>\n",
       "<table border=\"1\" class=\"dataframe\">\n",
       "  <thead>\n",
       "    <tr style=\"text-align: right;\">\n",
       "      <th></th>\n",
       "      <th>productid</th>\n",
       "      <th>soldquantity</th>\n",
       "      <th>stock</th>\n",
       "      <th>clickcount</th>\n",
       "      <th>favoredcount</th>\n",
       "      <th>price</th>\n",
       "      <th>gender_1</th>\n",
       "      <th>gender_2</th>\n",
       "      <th>gender_3</th>\n",
       "      <th>future_soldquantity</th>\n",
       "    </tr>\n",
       "  </thead>\n",
       "  <tbody>\n",
       "    <tr>\n",
       "      <th>0</th>\n",
       "      <td>1</td>\n",
       "      <td>0</td>\n",
       "      <td>140</td>\n",
       "      <td>82.0</td>\n",
       "      <td>0.0</td>\n",
       "      <td>1996</td>\n",
       "      <td>1</td>\n",
       "      <td>0</td>\n",
       "      <td>0</td>\n",
       "      <td>1.0</td>\n",
       "    </tr>\n",
       "    <tr>\n",
       "      <th>1</th>\n",
       "      <td>1</td>\n",
       "      <td>1</td>\n",
       "      <td>279</td>\n",
       "      <td>111.0</td>\n",
       "      <td>0.0</td>\n",
       "      <td>1996</td>\n",
       "      <td>1</td>\n",
       "      <td>0</td>\n",
       "      <td>0</td>\n",
       "      <td>1.0</td>\n",
       "    </tr>\n",
       "    <tr>\n",
       "      <th>2</th>\n",
       "      <td>1</td>\n",
       "      <td>1</td>\n",
       "      <td>139</td>\n",
       "      <td>60.0</td>\n",
       "      <td>0.0</td>\n",
       "      <td>1996</td>\n",
       "      <td>1</td>\n",
       "      <td>0</td>\n",
       "      <td>0</td>\n",
       "      <td>1.0</td>\n",
       "    </tr>\n",
       "    <tr>\n",
       "      <th>3</th>\n",
       "      <td>21</td>\n",
       "      <td>0</td>\n",
       "      <td>4</td>\n",
       "      <td>4.0</td>\n",
       "      <td>0.0</td>\n",
       "      <td>1100</td>\n",
       "      <td>0</td>\n",
       "      <td>1</td>\n",
       "      <td>0</td>\n",
       "      <td>0.0</td>\n",
       "    </tr>\n",
       "    <tr>\n",
       "      <th>4</th>\n",
       "      <td>21</td>\n",
       "      <td>0</td>\n",
       "      <td>4</td>\n",
       "      <td>2.0</td>\n",
       "      <td>0.0</td>\n",
       "      <td>1100</td>\n",
       "      <td>0</td>\n",
       "      <td>1</td>\n",
       "      <td>0</td>\n",
       "      <td>0.0</td>\n",
       "    </tr>\n",
       "    <tr>\n",
       "      <th>...</th>\n",
       "      <td>...</td>\n",
       "      <td>...</td>\n",
       "      <td>...</td>\n",
       "      <td>...</td>\n",
       "      <td>...</td>\n",
       "      <td>...</td>\n",
       "      <td>...</td>\n",
       "      <td>...</td>\n",
       "      <td>...</td>\n",
       "      <td>...</td>\n",
       "    </tr>\n",
       "    <tr>\n",
       "      <th>839571</th>\n",
       "      <td>194631</td>\n",
       "      <td>1</td>\n",
       "      <td>1</td>\n",
       "      <td>25.0</td>\n",
       "      <td>2.0</td>\n",
       "      <td>98</td>\n",
       "      <td>0</td>\n",
       "      <td>1</td>\n",
       "      <td>0</td>\n",
       "      <td>0.0</td>\n",
       "    </tr>\n",
       "    <tr>\n",
       "      <th>839572</th>\n",
       "      <td>196261</td>\n",
       "      <td>2</td>\n",
       "      <td>2</td>\n",
       "      <td>116.0</td>\n",
       "      <td>13.0</td>\n",
       "      <td>184</td>\n",
       "      <td>0</td>\n",
       "      <td>1</td>\n",
       "      <td>0</td>\n",
       "      <td>0.0</td>\n",
       "    </tr>\n",
       "    <tr>\n",
       "      <th>839573</th>\n",
       "      <td>196361</td>\n",
       "      <td>0</td>\n",
       "      <td>1</td>\n",
       "      <td>4.0</td>\n",
       "      <td>0.0</td>\n",
       "      <td>305</td>\n",
       "      <td>0</td>\n",
       "      <td>1</td>\n",
       "      <td>0</td>\n",
       "      <td>1.0</td>\n",
       "    </tr>\n",
       "    <tr>\n",
       "      <th>839574</th>\n",
       "      <td>196361</td>\n",
       "      <td>1</td>\n",
       "      <td>1</td>\n",
       "      <td>6.0</td>\n",
       "      <td>0.0</td>\n",
       "      <td>305</td>\n",
       "      <td>0</td>\n",
       "      <td>1</td>\n",
       "      <td>0</td>\n",
       "      <td>0.0</td>\n",
       "    </tr>\n",
       "    <tr>\n",
       "      <th>839575</th>\n",
       "      <td>196361</td>\n",
       "      <td>0</td>\n",
       "      <td>0</td>\n",
       "      <td>1.0</td>\n",
       "      <td>0.0</td>\n",
       "      <td>305</td>\n",
       "      <td>0</td>\n",
       "      <td>1</td>\n",
       "      <td>0</td>\n",
       "      <td>0.0</td>\n",
       "    </tr>\n",
       "  </tbody>\n",
       "</table>\n",
       "<p>839576 rows × 10 columns</p>\n",
       "</div>"
      ],
      "text/plain": [
       "        productid  soldquantity  stock  clickcount  favoredcount  price  \\\n",
       "0               1             0    140        82.0           0.0   1996   \n",
       "1               1             1    279       111.0           0.0   1996   \n",
       "2               1             1    139        60.0           0.0   1996   \n",
       "3              21             0      4         4.0           0.0   1100   \n",
       "4              21             0      4         2.0           0.0   1100   \n",
       "...           ...           ...    ...         ...           ...    ...   \n",
       "839571     194631             1      1        25.0           2.0     98   \n",
       "839572     196261             2      2       116.0          13.0    184   \n",
       "839573     196361             0      1         4.0           0.0    305   \n",
       "839574     196361             1      1         6.0           0.0    305   \n",
       "839575     196361             0      0         1.0           0.0    305   \n",
       "\n",
       "        gender_1  gender_2  gender_3  future_soldquantity  \n",
       "0              1         0         0                  1.0  \n",
       "1              1         0         0                  1.0  \n",
       "2              1         0         0                  1.0  \n",
       "3              0         1         0                  0.0  \n",
       "4              0         1         0                  0.0  \n",
       "...          ...       ...       ...                  ...  \n",
       "839571         0         1         0                  0.0  \n",
       "839572         0         1         0                  0.0  \n",
       "839573         0         1         0                  1.0  \n",
       "839574         0         1         0                  0.0  \n",
       "839575         0         1         0                  0.0  \n",
       "\n",
       "[839576 rows x 10 columns]"
      ]
     },
     "execution_count": 19,
     "metadata": {},
     "output_type": "execute_result"
    }
   ],
   "source": [
    "full_df"
   ]
  },
  {
   "cell_type": "markdown",
   "metadata": {},
   "source": [
    "### Now that we have all our data, we can go ahead and build a model for a single product, I do it on the most frequent product as a sample"
   ]
  },
  {
   "cell_type": "code",
   "execution_count": 20,
   "metadata": {},
   "outputs": [],
   "source": [
    "temp_df = full_df[full_df['productid'] == full_df['productid'].value_counts().index[2]]"
   ]
  },
  {
   "cell_type": "code",
   "execution_count": 22,
   "metadata": {},
   "outputs": [
    {
     "data": {
      "text/html": [
       "<div>\n",
       "<style scoped>\n",
       "    .dataframe tbody tr th:only-of-type {\n",
       "        vertical-align: middle;\n",
       "    }\n",
       "\n",
       "    .dataframe tbody tr th {\n",
       "        vertical-align: top;\n",
       "    }\n",
       "\n",
       "    .dataframe thead th {\n",
       "        text-align: right;\n",
       "    }\n",
       "</style>\n",
       "<table border=\"1\" class=\"dataframe\">\n",
       "  <thead>\n",
       "    <tr style=\"text-align: right;\">\n",
       "      <th></th>\n",
       "      <th>productid</th>\n",
       "      <th>soldquantity</th>\n",
       "      <th>stock</th>\n",
       "      <th>clickcount</th>\n",
       "      <th>favoredcount</th>\n",
       "      <th>price</th>\n",
       "      <th>gender_1</th>\n",
       "      <th>gender_2</th>\n",
       "      <th>gender_3</th>\n",
       "      <th>future_soldquantity</th>\n",
       "    </tr>\n",
       "  </thead>\n",
       "  <tbody>\n",
       "    <tr>\n",
       "      <th>229635</th>\n",
       "      <td>57601</td>\n",
       "      <td>0</td>\n",
       "      <td>330</td>\n",
       "      <td>187.0</td>\n",
       "      <td>3.0</td>\n",
       "      <td>3631</td>\n",
       "      <td>0</td>\n",
       "      <td>1</td>\n",
       "      <td>0</td>\n",
       "      <td>0.0</td>\n",
       "    </tr>\n",
       "    <tr>\n",
       "      <th>229636</th>\n",
       "      <td>57601</td>\n",
       "      <td>0</td>\n",
       "      <td>220</td>\n",
       "      <td>124.0</td>\n",
       "      <td>4.0</td>\n",
       "      <td>3631</td>\n",
       "      <td>0</td>\n",
       "      <td>1</td>\n",
       "      <td>0</td>\n",
       "      <td>0.0</td>\n",
       "    </tr>\n",
       "    <tr>\n",
       "      <th>229637</th>\n",
       "      <td>57601</td>\n",
       "      <td>0</td>\n",
       "      <td>218</td>\n",
       "      <td>79.0</td>\n",
       "      <td>4.0</td>\n",
       "      <td>3631</td>\n",
       "      <td>0</td>\n",
       "      <td>1</td>\n",
       "      <td>0</td>\n",
       "      <td>0.0</td>\n",
       "    </tr>\n",
       "    <tr>\n",
       "      <th>229638</th>\n",
       "      <td>57601</td>\n",
       "      <td>0</td>\n",
       "      <td>218</td>\n",
       "      <td>103.0</td>\n",
       "      <td>4.0</td>\n",
       "      <td>3631</td>\n",
       "      <td>0</td>\n",
       "      <td>1</td>\n",
       "      <td>0</td>\n",
       "      <td>0.0</td>\n",
       "    </tr>\n",
       "    <tr>\n",
       "      <th>229639</th>\n",
       "      <td>57601</td>\n",
       "      <td>0</td>\n",
       "      <td>218</td>\n",
       "      <td>102.0</td>\n",
       "      <td>4.0</td>\n",
       "      <td>3631</td>\n",
       "      <td>0</td>\n",
       "      <td>1</td>\n",
       "      <td>0</td>\n",
       "      <td>0.0</td>\n",
       "    </tr>\n",
       "    <tr>\n",
       "      <th>...</th>\n",
       "      <td>...</td>\n",
       "      <td>...</td>\n",
       "      <td>...</td>\n",
       "      <td>...</td>\n",
       "      <td>...</td>\n",
       "      <td>...</td>\n",
       "      <td>...</td>\n",
       "      <td>...</td>\n",
       "      <td>...</td>\n",
       "      <td>...</td>\n",
       "    </tr>\n",
       "    <tr>\n",
       "      <th>229701</th>\n",
       "      <td>57601</td>\n",
       "      <td>0</td>\n",
       "      <td>78</td>\n",
       "      <td>94.0</td>\n",
       "      <td>2.0</td>\n",
       "      <td>3631</td>\n",
       "      <td>0</td>\n",
       "      <td>1</td>\n",
       "      <td>0</td>\n",
       "      <td>2.0</td>\n",
       "    </tr>\n",
       "    <tr>\n",
       "      <th>229702</th>\n",
       "      <td>57601</td>\n",
       "      <td>2</td>\n",
       "      <td>78</td>\n",
       "      <td>285.0</td>\n",
       "      <td>3.0</td>\n",
       "      <td>3631</td>\n",
       "      <td>0</td>\n",
       "      <td>1</td>\n",
       "      <td>0</td>\n",
       "      <td>0.0</td>\n",
       "    </tr>\n",
       "    <tr>\n",
       "      <th>229703</th>\n",
       "      <td>57601</td>\n",
       "      <td>0</td>\n",
       "      <td>150</td>\n",
       "      <td>154.0</td>\n",
       "      <td>8.0</td>\n",
       "      <td>3631</td>\n",
       "      <td>0</td>\n",
       "      <td>1</td>\n",
       "      <td>0</td>\n",
       "      <td>0.0</td>\n",
       "    </tr>\n",
       "    <tr>\n",
       "      <th>229704</th>\n",
       "      <td>57601</td>\n",
       "      <td>0</td>\n",
       "      <td>75</td>\n",
       "      <td>89.0</td>\n",
       "      <td>5.0</td>\n",
       "      <td>3631</td>\n",
       "      <td>0</td>\n",
       "      <td>1</td>\n",
       "      <td>0</td>\n",
       "      <td>1.0</td>\n",
       "    </tr>\n",
       "    <tr>\n",
       "      <th>229705</th>\n",
       "      <td>57601</td>\n",
       "      <td>1</td>\n",
       "      <td>149</td>\n",
       "      <td>714.0</td>\n",
       "      <td>10.0</td>\n",
       "      <td>3631</td>\n",
       "      <td>0</td>\n",
       "      <td>1</td>\n",
       "      <td>0</td>\n",
       "      <td>1.0</td>\n",
       "    </tr>\n",
       "  </tbody>\n",
       "</table>\n",
       "<p>71 rows × 10 columns</p>\n",
       "</div>"
      ],
      "text/plain": [
       "        productid  soldquantity  stock  clickcount  favoredcount  price  \\\n",
       "229635      57601             0    330       187.0           3.0   3631   \n",
       "229636      57601             0    220       124.0           4.0   3631   \n",
       "229637      57601             0    218        79.0           4.0   3631   \n",
       "229638      57601             0    218       103.0           4.0   3631   \n",
       "229639      57601             0    218       102.0           4.0   3631   \n",
       "...           ...           ...    ...         ...           ...    ...   \n",
       "229701      57601             0     78        94.0           2.0   3631   \n",
       "229702      57601             2     78       285.0           3.0   3631   \n",
       "229703      57601             0    150       154.0           8.0   3631   \n",
       "229704      57601             0     75        89.0           5.0   3631   \n",
       "229705      57601             1    149       714.0          10.0   3631   \n",
       "\n",
       "        gender_1  gender_2  gender_3  future_soldquantity  \n",
       "229635         0         1         0                  0.0  \n",
       "229636         0         1         0                  0.0  \n",
       "229637         0         1         0                  0.0  \n",
       "229638         0         1         0                  0.0  \n",
       "229639         0         1         0                  0.0  \n",
       "...          ...       ...       ...                  ...  \n",
       "229701         0         1         0                  2.0  \n",
       "229702         0         1         0                  0.0  \n",
       "229703         0         1         0                  0.0  \n",
       "229704         0         1         0                  1.0  \n",
       "229705         0         1         0                  1.0  \n",
       "\n",
       "[71 rows x 10 columns]"
      ]
     },
     "execution_count": 22,
     "metadata": {},
     "output_type": "execute_result"
    }
   ],
   "source": [
    "temp_df ##productid-57601"
   ]
  },
  {
   "cell_type": "code",
   "execution_count": 23,
   "metadata": {},
   "outputs": [],
   "source": [
    "temp_df = temp_df.drop('productid', axis=1)"
   ]
  },
  {
   "cell_type": "code",
   "execution_count": 24,
   "metadata": {},
   "outputs": [],
   "source": [
    "full_x = temp_df.drop('future_soldquantity', axis=1)\n",
    "full_y = temp_df['future_soldquantity']"
   ]
  },
  {
   "cell_type": "code",
   "execution_count": 25,
   "metadata": {},
   "outputs": [
    {
     "data": {
      "text/html": [
       "<div>\n",
       "<style scoped>\n",
       "    .dataframe tbody tr th:only-of-type {\n",
       "        vertical-align: middle;\n",
       "    }\n",
       "\n",
       "    .dataframe tbody tr th {\n",
       "        vertical-align: top;\n",
       "    }\n",
       "\n",
       "    .dataframe thead th {\n",
       "        text-align: right;\n",
       "    }\n",
       "</style>\n",
       "<table border=\"1\" class=\"dataframe\">\n",
       "  <thead>\n",
       "    <tr style=\"text-align: right;\">\n",
       "      <th></th>\n",
       "      <th>soldquantity</th>\n",
       "      <th>stock</th>\n",
       "      <th>clickcount</th>\n",
       "      <th>favoredcount</th>\n",
       "      <th>price</th>\n",
       "      <th>gender_1</th>\n",
       "      <th>gender_2</th>\n",
       "      <th>gender_3</th>\n",
       "      <th>future_soldquantity</th>\n",
       "    </tr>\n",
       "  </thead>\n",
       "  <tbody>\n",
       "    <tr>\n",
       "      <th>229635</th>\n",
       "      <td>0</td>\n",
       "      <td>330</td>\n",
       "      <td>187.0</td>\n",
       "      <td>3.0</td>\n",
       "      <td>3631</td>\n",
       "      <td>0</td>\n",
       "      <td>1</td>\n",
       "      <td>0</td>\n",
       "      <td>0.0</td>\n",
       "    </tr>\n",
       "    <tr>\n",
       "      <th>229636</th>\n",
       "      <td>0</td>\n",
       "      <td>220</td>\n",
       "      <td>124.0</td>\n",
       "      <td>4.0</td>\n",
       "      <td>3631</td>\n",
       "      <td>0</td>\n",
       "      <td>1</td>\n",
       "      <td>0</td>\n",
       "      <td>0.0</td>\n",
       "    </tr>\n",
       "    <tr>\n",
       "      <th>229637</th>\n",
       "      <td>0</td>\n",
       "      <td>218</td>\n",
       "      <td>79.0</td>\n",
       "      <td>4.0</td>\n",
       "      <td>3631</td>\n",
       "      <td>0</td>\n",
       "      <td>1</td>\n",
       "      <td>0</td>\n",
       "      <td>0.0</td>\n",
       "    </tr>\n",
       "    <tr>\n",
       "      <th>229638</th>\n",
       "      <td>0</td>\n",
       "      <td>218</td>\n",
       "      <td>103.0</td>\n",
       "      <td>4.0</td>\n",
       "      <td>3631</td>\n",
       "      <td>0</td>\n",
       "      <td>1</td>\n",
       "      <td>0</td>\n",
       "      <td>0.0</td>\n",
       "    </tr>\n",
       "    <tr>\n",
       "      <th>229639</th>\n",
       "      <td>0</td>\n",
       "      <td>218</td>\n",
       "      <td>102.0</td>\n",
       "      <td>4.0</td>\n",
       "      <td>3631</td>\n",
       "      <td>0</td>\n",
       "      <td>1</td>\n",
       "      <td>0</td>\n",
       "      <td>0.0</td>\n",
       "    </tr>\n",
       "    <tr>\n",
       "      <th>...</th>\n",
       "      <td>...</td>\n",
       "      <td>...</td>\n",
       "      <td>...</td>\n",
       "      <td>...</td>\n",
       "      <td>...</td>\n",
       "      <td>...</td>\n",
       "      <td>...</td>\n",
       "      <td>...</td>\n",
       "      <td>...</td>\n",
       "    </tr>\n",
       "    <tr>\n",
       "      <th>229701</th>\n",
       "      <td>0</td>\n",
       "      <td>78</td>\n",
       "      <td>94.0</td>\n",
       "      <td>2.0</td>\n",
       "      <td>3631</td>\n",
       "      <td>0</td>\n",
       "      <td>1</td>\n",
       "      <td>0</td>\n",
       "      <td>2.0</td>\n",
       "    </tr>\n",
       "    <tr>\n",
       "      <th>229702</th>\n",
       "      <td>2</td>\n",
       "      <td>78</td>\n",
       "      <td>285.0</td>\n",
       "      <td>3.0</td>\n",
       "      <td>3631</td>\n",
       "      <td>0</td>\n",
       "      <td>1</td>\n",
       "      <td>0</td>\n",
       "      <td>0.0</td>\n",
       "    </tr>\n",
       "    <tr>\n",
       "      <th>229703</th>\n",
       "      <td>0</td>\n",
       "      <td>150</td>\n",
       "      <td>154.0</td>\n",
       "      <td>8.0</td>\n",
       "      <td>3631</td>\n",
       "      <td>0</td>\n",
       "      <td>1</td>\n",
       "      <td>0</td>\n",
       "      <td>0.0</td>\n",
       "    </tr>\n",
       "    <tr>\n",
       "      <th>229704</th>\n",
       "      <td>0</td>\n",
       "      <td>75</td>\n",
       "      <td>89.0</td>\n",
       "      <td>5.0</td>\n",
       "      <td>3631</td>\n",
       "      <td>0</td>\n",
       "      <td>1</td>\n",
       "      <td>0</td>\n",
       "      <td>1.0</td>\n",
       "    </tr>\n",
       "    <tr>\n",
       "      <th>229705</th>\n",
       "      <td>1</td>\n",
       "      <td>149</td>\n",
       "      <td>714.0</td>\n",
       "      <td>10.0</td>\n",
       "      <td>3631</td>\n",
       "      <td>0</td>\n",
       "      <td>1</td>\n",
       "      <td>0</td>\n",
       "      <td>1.0</td>\n",
       "    </tr>\n",
       "  </tbody>\n",
       "</table>\n",
       "<p>71 rows × 9 columns</p>\n",
       "</div>"
      ],
      "text/plain": [
       "        soldquantity  stock  clickcount  favoredcount  price  gender_1  \\\n",
       "229635             0    330       187.0           3.0   3631         0   \n",
       "229636             0    220       124.0           4.0   3631         0   \n",
       "229637             0    218        79.0           4.0   3631         0   \n",
       "229638             0    218       103.0           4.0   3631         0   \n",
       "229639             0    218       102.0           4.0   3631         0   \n",
       "...              ...    ...         ...           ...    ...       ...   \n",
       "229701             0     78        94.0           2.0   3631         0   \n",
       "229702             2     78       285.0           3.0   3631         0   \n",
       "229703             0    150       154.0           8.0   3631         0   \n",
       "229704             0     75        89.0           5.0   3631         0   \n",
       "229705             1    149       714.0          10.0   3631         0   \n",
       "\n",
       "        gender_2  gender_3  future_soldquantity  \n",
       "229635         1         0                  0.0  \n",
       "229636         1         0                  0.0  \n",
       "229637         1         0                  0.0  \n",
       "229638         1         0                  0.0  \n",
       "229639         1         0                  0.0  \n",
       "...          ...       ...                  ...  \n",
       "229701         1         0                  2.0  \n",
       "229702         1         0                  0.0  \n",
       "229703         1         0                  0.0  \n",
       "229704         1         0                  1.0  \n",
       "229705         1         0                  1.0  \n",
       "\n",
       "[71 rows x 9 columns]"
      ]
     },
     "execution_count": 25,
     "metadata": {},
     "output_type": "execute_result"
    }
   ],
   "source": [
    "temp_df"
   ]
  },
  {
   "cell_type": "markdown",
   "metadata": {},
   "source": [
    "# Train/Test Split"
   ]
  },
  {
   "cell_type": "markdown",
   "metadata": {},
   "source": [
    "### The data is split into a 90% Train and 10% Test, from the 90% Train Cross Validation is also done on it."
   ]
  },
  {
   "cell_type": "code",
   "execution_count": 26,
   "metadata": {},
   "outputs": [],
   "source": [
    "X, test_X, y, test_y = train_test_split(full_x, full_y, test_size=0.1, random_state=0, shuffle=True)"
   ]
  },
  {
   "cell_type": "markdown",
   "metadata": {},
   "source": [
    "# Gridsearch to find best models"
   ]
  },
  {
   "cell_type": "markdown",
   "metadata": {},
   "source": [
    "### Logistic Regression"
   ]
  },
  {
   "cell_type": "code",
   "execution_count": 27,
   "metadata": {},
   "outputs": [],
   "source": [
    "lr_gc = GridSearchCV(LinearRegression(), {'normalize':[False, True]}, scoring = 'neg_mean_absolute_error')"
   ]
  },
  {
   "cell_type": "code",
   "execution_count": 28,
   "metadata": {
    "scrolled": true
   },
   "outputs": [
    {
     "name": "stderr",
     "output_type": "stream",
     "text": [
      "C:\\Users\\TCIDEMIRKAN\\AppData\\Local\\Continuum\\anaconda3\\lib\\site-packages\\sklearn\\model_selection\\_split.py:1978: FutureWarning: The default value of cv will change from 3 to 5 in version 0.22. Specify it explicitly to silence this warning.\n",
      "  warnings.warn(CV_WARNING, FutureWarning)\n"
     ]
    },
    {
     "data": {
      "text/plain": [
       "GridSearchCV(cv='warn', error_score='raise-deprecating',\n",
       "             estimator=LinearRegression(copy_X=True, fit_intercept=True,\n",
       "                                        n_jobs=None, normalize=False),\n",
       "             iid='warn', n_jobs=None, param_grid={'normalize': [False, True]},\n",
       "             pre_dispatch='2*n_jobs', refit=True, return_train_score=False,\n",
       "             scoring='neg_mean_absolute_error', verbose=0)"
      ]
     },
     "execution_count": 28,
     "metadata": {},
     "output_type": "execute_result"
    }
   ],
   "source": [
    "lr_gc.fit(X, y)"
   ]
  },
  {
   "cell_type": "code",
   "execution_count": 29,
   "metadata": {},
   "outputs": [
    {
     "data": {
      "text/plain": [
       "LinearRegression(copy_X=True, fit_intercept=True, n_jobs=None, normalize=True)"
      ]
     },
     "execution_count": 29,
     "metadata": {},
     "output_type": "execute_result"
    }
   ],
   "source": [
    "lr_gc.best_estimator_"
   ]
  },
  {
   "cell_type": "code",
   "execution_count": 30,
   "metadata": {},
   "outputs": [
    {
     "data": {
      "text/plain": [
       "0.7905728370703312"
      ]
     },
     "execution_count": 30,
     "metadata": {},
     "output_type": "execute_result"
    }
   ],
   "source": [
    "-lr_gc.best_score_"
   ]
  },
  {
   "cell_type": "markdown",
   "metadata": {},
   "source": [
    "## 0.79 MSE"
   ]
  },
  {
   "cell_type": "markdown",
   "metadata": {},
   "source": [
    "### Random Forest"
   ]
  },
  {
   "cell_type": "code",
   "execution_count": 31,
   "metadata": {
    "scrolled": true
   },
   "outputs": [
    {
     "name": "stderr",
     "output_type": "stream",
     "text": [
      "C:\\Users\\TCIDEMIRKAN\\AppData\\Local\\Continuum\\anaconda3\\lib\\site-packages\\sklearn\\model_selection\\_split.py:1978: FutureWarning: The default value of cv will change from 3 to 5 in version 0.22. Specify it explicitly to silence this warning.\n",
      "  warnings.warn(CV_WARNING, FutureWarning)\n",
      "[Parallel(n_jobs=1)]: Using backend SequentialBackend with 1 concurrent workers.\n",
      "[Parallel(n_jobs=1)]: Done   1 out of   1 | elapsed:    0.0s remaining:    0.0s\n",
      "[Parallel(n_jobs=1)]: Done   2 out of   2 | elapsed:    0.0s remaining:    0.0s\n"
     ]
    },
    {
     "name": "stdout",
     "output_type": "stream",
     "text": [
      "Fitting 3 folds for each of 20 candidates, totalling 60 fits\n",
      "[CV] max_depth=None, n_estimators=10 .................................\n",
      "[CV] .... max_depth=None, n_estimators=10, score=-0.638, total=   0.0s\n",
      "[CV] max_depth=None, n_estimators=10 .................................\n",
      "[CV] .... max_depth=None, n_estimators=10, score=-0.776, total=   0.0s\n",
      "[CV] max_depth=None, n_estimators=10 .................................\n",
      "[CV] .... max_depth=None, n_estimators=10, score=-1.076, total=   0.0s\n",
      "[CV] max_depth=None, n_estimators=25 .................................\n",
      "[CV] .... max_depth=None, n_estimators=25, score=-0.720, total=   0.0s\n",
      "[CV] max_depth=None, n_estimators=25 .................................\n",
      "[CV] .... max_depth=None, n_estimators=25, score=-0.695, total=   0.0s\n",
      "[CV] max_depth=None, n_estimators=25 .................................\n",
      "[CV] .... max_depth=None, n_estimators=25, score=-1.114, total=   0.0s\n",
      "[CV] max_depth=None, n_estimators=100 ................................\n",
      "[CV] ... max_depth=None, n_estimators=100, score=-0.750, total=   0.0s\n",
      "[CV] max_depth=None, n_estimators=100 ................................\n",
      "[CV] ... max_depth=None, n_estimators=100, score=-0.681, total=   0.1s\n",
      "[CV] max_depth=None, n_estimators=100 ................................\n",
      "[CV] ... max_depth=None, n_estimators=100, score=-1.121, total=   0.1s\n",
      "[CV] max_depth=None, n_estimators=250 ................................\n",
      "[CV] ... max_depth=None, n_estimators=250, score=-0.724, total=   0.1s\n",
      "[CV] max_depth=None, n_estimators=250 ................................\n",
      "[CV] ... max_depth=None, n_estimators=250, score=-0.670, total=   0.1s\n",
      "[CV] max_depth=None, n_estimators=250 ................................\n",
      "[CV] ... max_depth=None, n_estimators=250, score=-1.116, total=   0.1s\n",
      "[CV] max_depth=1, n_estimators=10 ....................................\n",
      "[CV] ....... max_depth=1, n_estimators=10, score=-0.698, total=   0.0s\n",
      "[CV] max_depth=1, n_estimators=10 ....................................\n",
      "[CV] ....... max_depth=1, n_estimators=10, score=-0.714, total=   0.0s\n",
      "[CV] max_depth=1, n_estimators=10 ....................................\n",
      "[CV] ....... max_depth=1, n_estimators=10, score=-0.924, total=   0.0s\n",
      "[CV] max_depth=1, n_estimators=25 ....................................\n",
      "[CV] ....... max_depth=1, n_estimators=25, score=-0.732, total=   0.0s\n",
      "[CV] max_depth=1, n_estimators=25 ....................................\n",
      "[CV] ....... max_depth=1, n_estimators=25, score=-0.673, total=   0.0s\n",
      "[CV] max_depth=1, n_estimators=25 ....................................\n",
      "[CV] ....... max_depth=1, n_estimators=25, score=-0.955, total=   0.0s\n",
      "[CV] max_depth=1, n_estimators=100 ...................................\n",
      "[CV] ...... max_depth=1, n_estimators=100, score=-0.756, total=   0.0s\n",
      "[CV] max_depth=1, n_estimators=100 ...................................\n",
      "[CV] ...... max_depth=1, n_estimators=100, score=-0.646, total=   0.1s\n",
      "[CV] max_depth=1, n_estimators=100 ...................................\n",
      "[CV] ...... max_depth=1, n_estimators=100, score=-0.973, total=   0.0s\n",
      "[CV] max_depth=1, n_estimators=250 ...................................\n",
      "[CV] ...... max_depth=1, n_estimators=250, score=-0.760, total=   0.1s\n",
      "[CV] max_depth=1, n_estimators=250 ...................................\n",
      "[CV] ...... max_depth=1, n_estimators=250, score=-0.646, total=   0.1s\n",
      "[CV] max_depth=1, n_estimators=250 ...................................\n",
      "[CV] ...... max_depth=1, n_estimators=250, score=-0.985, total=   0.1s\n",
      "[CV] max_depth=5, n_estimators=10 ....................................\n",
      "[CV] ....... max_depth=5, n_estimators=10, score=-0.653, total=   0.0s\n",
      "[CV] max_depth=5, n_estimators=10 ....................................\n",
      "[CV] ....... max_depth=5, n_estimators=10, score=-0.737, total=   0.0s\n",
      "[CV] max_depth=5, n_estimators=10 ....................................\n",
      "[CV] ....... max_depth=5, n_estimators=10, score=-1.058, total=   0.0s\n",
      "[CV] max_depth=5, n_estimators=25 ....................................\n",
      "[CV] ....... max_depth=5, n_estimators=25, score=-0.698, total=   0.0s\n",
      "[CV] max_depth=5, n_estimators=25 ....................................\n",
      "[CV] ....... max_depth=5, n_estimators=25, score=-0.659, total=   0.0s\n",
      "[CV] max_depth=5, n_estimators=25 ....................................\n",
      "[CV] ....... max_depth=5, n_estimators=25, score=-1.106, total=   0.0s\n",
      "[CV] max_depth=5, n_estimators=100 ...................................\n",
      "[CV] ...... max_depth=5, n_estimators=100, score=-0.732, total=   0.0s\n",
      "[CV] max_depth=5, n_estimators=100 ...................................\n",
      "[CV] ...... max_depth=5, n_estimators=100, score=-0.646, total=   0.0s\n",
      "[CV] max_depth=5, n_estimators=100 ...................................\n",
      "[CV] ...... max_depth=5, n_estimators=100, score=-1.118, total=   0.0s\n",
      "[CV] max_depth=5, n_estimators=250 ...................................\n",
      "[CV] ...... max_depth=5, n_estimators=250, score=-0.716, total=   0.1s\n",
      "[CV] max_depth=5, n_estimators=250 ...................................\n",
      "[CV] ...... max_depth=5, n_estimators=250, score=-0.652, total=   0.1s\n",
      "[CV] max_depth=5, n_estimators=250 ...................................\n",
      "[CV] ...... max_depth=5, n_estimators=250, score=-1.108, total=   0.1s\n",
      "[CV] max_depth=10, n_estimators=10 ...................................\n",
      "[CV] ...... max_depth=10, n_estimators=10, score=-0.638, total=   0.0s\n",
      "[CV] max_depth=10, n_estimators=10 ...................................\n",
      "[CV] ...... max_depth=10, n_estimators=10, score=-0.776, total=   0.0s\n",
      "[CV] max_depth=10, n_estimators=10 ...................................\n",
      "[CV] ...... max_depth=10, n_estimators=10, score=-1.076, total=   0.0s\n",
      "[CV] max_depth=10, n_estimators=25 ...................................\n",
      "[CV] ...... max_depth=10, n_estimators=25, score=-0.724, total=   0.0s\n",
      "[CV] max_depth=10, n_estimators=25 ...................................\n",
      "[CV] ...... max_depth=10, n_estimators=25, score=-0.695, total=   0.0s\n",
      "[CV] max_depth=10, n_estimators=25 ...................................\n",
      "[CV] ...... max_depth=10, n_estimators=25, score=-1.114, total=   0.0s\n",
      "[CV] max_depth=10, n_estimators=100 ..................................\n",
      "[CV] ..... max_depth=10, n_estimators=100, score=-0.752, total=   0.0s\n",
      "[CV] max_depth=10, n_estimators=100 ..................................\n",
      "[CV] ..... max_depth=10, n_estimators=100, score=-0.681, total=   0.0s\n",
      "[CV] max_depth=10, n_estimators=100 ..................................\n",
      "[CV] ..... max_depth=10, n_estimators=100, score=-1.121, total=   0.0s\n",
      "[CV] max_depth=10, n_estimators=250 ..................................\n",
      "[CV] ..... max_depth=10, n_estimators=250, score=-0.725, total=   0.1s\n",
      "[CV] max_depth=10, n_estimators=250 ..................................\n",
      "[CV] ..... max_depth=10, n_estimators=250, score=-0.670, total=   0.1s\n",
      "[CV] max_depth=10, n_estimators=250 ..................................\n",
      "[CV] ..... max_depth=10, n_estimators=250, score=-1.116, total=   0.1s\n",
      "[CV] max_depth=25, n_estimators=10 ...................................\n",
      "[CV] ...... max_depth=25, n_estimators=10, score=-0.638, total=   0.0s\n",
      "[CV] max_depth=25, n_estimators=10 ...................................\n",
      "[CV] ...... max_depth=25, n_estimators=10, score=-0.776, total=   0.0s\n",
      "[CV] max_depth=25, n_estimators=10 ...................................\n",
      "[CV] ...... max_depth=25, n_estimators=10, score=-1.076, total=   0.0s\n",
      "[CV] max_depth=25, n_estimators=25 ...................................\n",
      "[CV] ...... max_depth=25, n_estimators=25, score=-0.720, total=   0.0s\n",
      "[CV] max_depth=25, n_estimators=25 ...................................\n",
      "[CV] ...... max_depth=25, n_estimators=25, score=-0.695, total=   0.0s\n",
      "[CV] max_depth=25, n_estimators=25 ...................................\n",
      "[CV] ...... max_depth=25, n_estimators=25, score=-1.114, total=   0.0s\n",
      "[CV] max_depth=25, n_estimators=100 ..................................\n",
      "[CV] ..... max_depth=25, n_estimators=100, score=-0.750, total=   0.0s\n",
      "[CV] max_depth=25, n_estimators=100 ..................................\n",
      "[CV] ..... max_depth=25, n_estimators=100, score=-0.681, total=   0.0s\n",
      "[CV] max_depth=25, n_estimators=100 ..................................\n",
      "[CV] ..... max_depth=25, n_estimators=100, score=-1.121, total=   0.0s\n",
      "[CV] max_depth=25, n_estimators=250 ..................................\n",
      "[CV] ..... max_depth=25, n_estimators=250, score=-0.724, total=   0.1s\n",
      "[CV] max_depth=25, n_estimators=250 ..................................\n"
     ]
    },
    {
     "name": "stdout",
     "output_type": "stream",
     "text": [
      "[CV] ..... max_depth=25, n_estimators=250, score=-0.670, total=   0.1s\n",
      "[CV] max_depth=25, n_estimators=250 ..................................\n",
      "[CV] ..... max_depth=25, n_estimators=250, score=-1.116, total=   0.1s\n"
     ]
    },
    {
     "name": "stderr",
     "output_type": "stream",
     "text": [
      "[Parallel(n_jobs=1)]: Done  60 out of  60 | elapsed:    2.5s finished\n"
     ]
    },
    {
     "data": {
      "text/plain": [
       "GridSearchCV(cv='warn', error_score='raise-deprecating',\n",
       "             estimator=RandomForestRegressor(bootstrap=True, criterion='mse',\n",
       "                                             max_depth=None,\n",
       "                                             max_features='auto',\n",
       "                                             max_leaf_nodes=None,\n",
       "                                             min_impurity_decrease=0.0,\n",
       "                                             min_impurity_split=None,\n",
       "                                             min_samples_leaf=1,\n",
       "                                             min_samples_split=2,\n",
       "                                             min_weight_fraction_leaf=0.0,\n",
       "                                             n_estimators='warn', n_jobs=None,\n",
       "                                             oob_score=False, random_state=0,\n",
       "                                             verbose=0, warm_start=False),\n",
       "             iid='warn', n_jobs=None,\n",
       "             param_grid={'max_depth': [None, 1, 5, 10, 25],\n",
       "                         'n_estimators': [10, 25, 100, 250]},\n",
       "             pre_dispatch='2*n_jobs', refit=True, return_train_score=False,\n",
       "             scoring='neg_mean_absolute_error', verbose=3)"
      ]
     },
     "execution_count": 31,
     "metadata": {},
     "output_type": "execute_result"
    }
   ],
   "source": [
    "rf_gc = GridSearchCV(RandomForestRegressor(random_state=0), {'n_estimators':[10, 25, 100, 250], 'max_depth':[None, 1, 5, 10, 25]}, verbose=3, scoring='neg_mean_absolute_error')\n",
    "rf_gc.fit(X, y)"
   ]
  },
  {
   "cell_type": "code",
   "execution_count": 32,
   "metadata": {},
   "outputs": [
    {
     "data": {
      "text/plain": [
       "RandomForestRegressor(bootstrap=True, criterion='mse', max_depth=1,\n",
       "                      max_features='auto', max_leaf_nodes=None,\n",
       "                      min_impurity_decrease=0.0, min_impurity_split=None,\n",
       "                      min_samples_leaf=1, min_samples_split=2,\n",
       "                      min_weight_fraction_leaf=0.0, n_estimators=10,\n",
       "                      n_jobs=None, oob_score=False, random_state=0, verbose=0,\n",
       "                      warm_start=False)"
      ]
     },
     "execution_count": 32,
     "metadata": {},
     "output_type": "execute_result"
    }
   ],
   "source": [
    "rf_gc.best_estimator_"
   ]
  },
  {
   "cell_type": "code",
   "execution_count": 33,
   "metadata": {},
   "outputs": [
    {
     "data": {
      "text/plain": [
       "0.7786096994502587"
      ]
     },
     "execution_count": 33,
     "metadata": {},
     "output_type": "execute_result"
    }
   ],
   "source": [
    "-rf_gc.best_score_"
   ]
  },
  {
   "cell_type": "markdown",
   "metadata": {},
   "source": [
    "## 0.77 MSE"
   ]
  },
  {
   "cell_type": "markdown",
   "metadata": {},
   "source": [
    "## KNeighborsClassifier"
   ]
  },
  {
   "cell_type": "code",
   "execution_count": 34,
   "metadata": {},
   "outputs": [
    {
     "name": "stderr",
     "output_type": "stream",
     "text": [
      "C:\\Users\\TCIDEMIRKAN\\AppData\\Local\\Continuum\\anaconda3\\lib\\site-packages\\sklearn\\model_selection\\_split.py:1978: FutureWarning: The default value of cv will change from 3 to 5 in version 0.22. Specify it explicitly to silence this warning.\n",
      "  warnings.warn(CV_WARNING, FutureWarning)\n"
     ]
    },
    {
     "data": {
      "text/plain": [
       "GridSearchCV(cv='warn', error_score='raise-deprecating',\n",
       "             estimator=KNeighborsRegressor(algorithm='auto', leaf_size=30,\n",
       "                                           metric='minkowski',\n",
       "                                           metric_params=None, n_jobs=None,\n",
       "                                           n_neighbors=5, p=2,\n",
       "                                           weights='uniform'),\n",
       "             iid='warn', n_jobs=-1, param_grid={'n_neighbors': range(1, 20)},\n",
       "             pre_dispatch='2*n_jobs', refit=True, return_train_score=True,\n",
       "             scoring='neg_mean_absolute_error', verbose=0)"
      ]
     },
     "execution_count": 34,
     "metadata": {},
     "output_type": "execute_result"
    }
   ],
   "source": [
    "knn_gc = GridSearchCV(KNeighborsRegressor(), {'n_neighbors':range(1,20)}, n_jobs=-1, return_train_score=True, scoring='neg_mean_absolute_error')\n",
    "knn_gc.fit(X, y)"
   ]
  },
  {
   "cell_type": "code",
   "execution_count": 35,
   "metadata": {},
   "outputs": [
    {
     "data": {
      "image/png": "[encoded data removed]",
      "text/plain": [
       "<Figure size 432x288 with 1 Axes>"
      ]
     },
     "metadata": {
      "needs_background": "light"
     },
     "output_type": "display_data"
    }
   ],
   "source": [
    "train_accuracy = knn_gc.cv_results_['mean_train_score']\n",
    "test_accuracy = knn_gc.cv_results_['mean_test_score']\n",
    "\n",
    "plt.plot(range(1, 20), -train_accuracy, label=\"Train\")\n",
    "plt.plot(range(1, 20), -test_accuracy, label=\"Validation\")\n",
    "plt.legend()\n",
    "plt.show()"
   ]
  },
  {
   "cell_type": "code",
   "execution_count": 36,
   "metadata": {},
   "outputs": [
    {
     "data": {
      "text/plain": [
       "KNeighborsRegressor(algorithm='auto', leaf_size=30, metric='minkowski',\n",
       "                    metric_params=None, n_jobs=None, n_neighbors=6, p=2,\n",
       "                    weights='uniform')"
      ]
     },
     "execution_count": 36,
     "metadata": {},
     "output_type": "execute_result"
    }
   ],
   "source": [
    "knn_gc.best_estimator_"
   ]
  },
  {
   "cell_type": "code",
   "execution_count": 37,
   "metadata": {},
   "outputs": [
    {
     "data": {
      "text/plain": [
       "0.7830687830687831"
      ]
     },
     "execution_count": 37,
     "metadata": {},
     "output_type": "execute_result"
    }
   ],
   "source": [
    "-knn_gc.best_score_"
   ]
  },
  {
   "cell_type": "markdown",
   "metadata": {},
   "source": [
    "## 0.78 MSE"
   ]
  },
  {
   "cell_type": "markdown",
   "metadata": {},
   "source": [
    "# Best model and test set\n",
    "### Use the validation data, val_x and val_y to choose the best model"
   ]
  },
  {
   "cell_type": "code",
   "execution_count": 38,
   "metadata": {},
   "outputs": [
    {
     "data": {
      "image/png": "[encoded data removed]",
      "text/plain": [
       "<Figure size 432x288 with 1 Axes>"
      ]
     },
     "metadata": {
      "needs_background": "light"
     },
     "output_type": "display_data"
    }
   ],
   "source": [
    "score_dict = pd.Series({\"Logistic Regression\":-lr_gc.best_score_, \"Random Forest\":-rf_gc.best_score_, \"KNN\":-knn_gc.best_score_})\n",
    "score_dict.sort_values().plot(kind='bar', title=\"Validation R2\")\n",
    "plt.ylabel(\"Accuracy\")\n",
    "plt.show()"
   ]
  },
  {
   "cell_type": "markdown",
   "metadata": {},
   "source": [
    "### Best Model is RF"
   ]
  },
  {
   "cell_type": "code",
   "execution_count": 39,
   "metadata": {},
   "outputs": [],
   "source": [
    "from sklearn.metrics import mean_squared_error"
   ]
  },
  {
   "cell_type": "code",
   "execution_count": 40,
   "metadata": {},
   "outputs": [
    {
     "data": {
      "text/plain": [
       "0.3647438667354279"
      ]
     },
     "execution_count": 40,
     "metadata": {},
     "output_type": "execute_result"
    }
   ],
   "source": [
    "mean_squared_error(rf_gc.predict(test_X), test_y)"
   ]
  },
  {
   "cell_type": "markdown",
   "metadata": {},
   "source": [
    "### 0.36 MSE"
   ]
  },
  {
   "cell_type": "markdown",
   "metadata": {},
   "source": [
    "# Predictions"
   ]
  },
  {
   "cell_type": "code",
   "execution_count": 42,
   "metadata": {
    "scrolled": true
   },
   "outputs": [
    {
     "data": {
      "text/plain": [
       "1.0"
      ]
     },
     "execution_count": 42,
     "metadata": {},
     "output_type": "execute_result"
    }
   ],
   "source": [
    "round(rf_gc.predict(full_x.iloc[-1:])[0])"
   ]
  },
  {
   "cell_type": "code",
   "execution_count": 43,
   "metadata": {},
   "outputs": [
    {
     "data": {
      "text/plain": [
       "[<matplotlib.lines.Line2D at 0x20213aa2148>]"
      ]
     },
     "execution_count": 43,
     "metadata": {},
     "output_type": "execute_result"
    },
    {
     "data": {
      "image/png": "[encoded data removed]",
      "text/plain": [
       "<Figure size 432x288 with 1 Axes>"
      ]
     },
     "metadata": {
      "needs_background": "light"
     },
     "output_type": "display_data"
    }
   ],
   "source": [
    "plt.plot(temp_df.reset_index(drop=True).index, temp_df['soldquantity'])"
   ]
  },
  {
   "cell_type": "markdown",
   "metadata": {},
   "source": [
    "### The model predicts a sale of 1, which makes sense given the current sales this day and historical sales of the product"
   ]
  },
  {
   "cell_type": "markdown",
   "metadata": {},
   "source": [
    "# Questions & Answers"
   ]
  },
  {
   "cell_type": "markdown",
   "metadata": {},
   "source": [
    "## 1. How did you create the target variable?\n",
    "### The Target variable was created by shifting the current sales per day one day backwards, so that tomorrow's value is used with todays features."
   ]
  },
  {
   "cell_type": "markdown",
   "metadata": {},
   "source": [
    "## 2. How did you prepare the final dataset for modeling?\n",
    "### As shown above, the final dataset is created by first removing unnessarily large categorical features, one hot encoding the other categorical features and shifting the target timeseries."
   ]
  },
  {
   "cell_type": "markdown",
   "metadata": {},
   "source": [
    "## 3. How did you split datasets into training and testing?\n",
    "### The dataset was split 90% Training, 10% Testing and Cross Validation was performed on the training split"
   ]
  },
  {
   "cell_type": "markdown",
   "metadata": {},
   "source": [
    "## 4. What methods did you use for modelling and why?\n",
    "### Linear Regression, Random Forest and KNN were used by running grid search to tune their hyperparameters to find each optimum model, then the best model was selected from the three."
   ]
  },
  {
   "cell_type": "markdown",
   "metadata": {},
   "source": [
    "## 5. How did you quantify the performance of your model(s)?\n",
    "### The performances were quantified by using the mean absolute error, showing how much the model, on average, misses the actual amount of sales."
   ]
  },
  {
   "cell_type": "markdown",
   "metadata": {},
   "source": []
  }
 ],
 "metadata": {
  "kernelspec": {
   "display_name": "Python 3",
   "language": "python",
   "name": "python3"
  },
  "language_info": {
   "codemirror_mode": {
    "name": "ipython",
    "version": 3
   },
   "file_extension": ".py",
   "mimetype": "text/x-python",
   "name": "python",
   "nbconvert_exporter": "python",
   "pygments_lexer": "ipython3",
   "version": "3.7.4"
  }
 },
 "nbformat": 4,
 "nbformat_minor": 4
}
